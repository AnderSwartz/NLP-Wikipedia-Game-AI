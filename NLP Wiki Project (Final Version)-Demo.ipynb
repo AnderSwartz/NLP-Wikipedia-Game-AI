{
 "cells": [
  {
   "cell_type": "code",
   "execution_count": 8,
   "metadata": {},
   "outputs": [],
   "source": [
    "# Welcome to my Wikipedia Game AI!\n",
    "\n",
    "# This project simulates the challenge of trying to get from one Wiki page to another using only hyperlinks\n",
    "# contained within different Wiki pages. The goal of the game is for two people (or in this case, an AI) \n",
    "# to use the least amount of intermediate Wiki pages when traveling from the origin to the target page.\n",
    "\n",
    "#If you want to try out the AI with two of your own chosen Wiki pages, first run the next 4 cells to\n",
    "#set up the project, which involves importing the GloVe and Wikipedia API's, and defining the functions to be used.\n",
    "# If you get an error that is unrelated to the a wrong name for a Wiki page, you must restart the kernal and rerun all the \n",
    "# set up cells again"
   ]
  },
  {
   "cell_type": "code",
   "execution_count": 9,
   "metadata": {},
   "outputs": [],
   "source": [
    "#this will take a short while...\n",
    "import sys\n",
    "# !{sys.executable} -m pip install gensim\n",
    "import gensim.downloader as api\n",
    "w2v_embedding = api.load(\"glove-wiki-gigaword-100\")"
   ]
  },
  {
   "cell_type": "code",
   "execution_count": 10,
   "metadata": {},
   "outputs": [],
   "source": [
    "#Found it easier to use my own cosine similarity function\n",
    "from numpy import dot\n",
    "from numpy.linalg import norm\n",
    " \n",
    "def cos_sim(v1,v2): #this compute the same values as the build in w2v_embedding.similarity function\n",
    "    return dot(v1, v2)/(norm(v1)*norm(v2))"
   ]
  },
  {
   "cell_type": "code",
   "execution_count": 4,
   "metadata": {},
   "outputs": [],
   "source": [
    "#only single word pages\n",
    "import numpy as np\n",
    "import wikipediaapi \n",
    "wiki = wikipediaapi.Wikipedia('en')\n",
    "\n",
    "def sortLinksSemanticallySingle(currentPage,target,intermediateLinks):\n",
    "    \n",
    "    print(\"Path\",intermediateLinks)\n",
    "    pageSimilarity = {} #key is page, value is semantic similarity with target\n",
    "    for link in currentPage.links.keys():\n",
    "        try:\n",
    "            \n",
    "            link_embedding = w2v_embedding[link.lower()]\n",
    "            target_embedding = w2v_embedding[target.lower()]\n",
    "            try:\n",
    "                pageSimilarity[link] = cos_sim(link_embedding,target_embedding)\n",
    "            except:\n",
    "                pass                    \n",
    "        \n",
    "        except:\n",
    "            pass\n",
    "    \n",
    "    sorted_keys = sorted(pageSimilarity, key=pageSimilarity.get)\n",
    "    max_key = max(pageSimilarity, key=pageSimilarity.get)\n",
    "    while(max_key.capitalize() in intermediateLinks):\n",
    "        del pageSimilarity[max_key]\n",
    "        max_key = max(pageSimilarity, key=pageSimilarity.get)\n",
    "    max_score = pageSimilarity[max_key]\n",
    "    \n",
    "    if target.capitalize() in pageSimilarity.keys():\n",
    "        return intermediateLinks\n",
    "    else:\n",
    "        print(\"Current Page:\",max_key,\" - \",max_score,\"to target\")\n",
    "        intermediateLinks.append(max_key.capitalize())\n",
    "        nextPage = wiki.page(max_key.replace(\" \", \"_\"))\n",
    "        sortLinksSemanticallySingle(nextPage,target,intermediateLinks)\n",
    "        return intermediateLinks\n",
    "\n",
    "def findDistanceSingle(origin,target):\n",
    "    originPage = wiki.page(origin)\n",
    "#     print(\"Running findDistance\")\n",
    "    targetPage = wiki.page(target)\n",
    "    print(\"Initial Page:\",wiki.extracts(originPage,exsentences=1))\n",
    "    print(\"Target Page:\",wiki.extracts(targetPage,exsentences=1))\n",
    "    if(originPage.exists()):\n",
    "        if(targetPage.exists()):\n",
    "            intermediateLinks = []\n",
    "           \n",
    "            try:\n",
    "                print(\"caling sortlinks\")\n",
    "                sequence = sortLinksSemanticallySingle(originPage,target,intermediateLinks)\n",
    "            except:\n",
    "                \n",
    "                return 1000\n",
    "#             print(sequence)\n",
    "        else:\n",
    "            return 0,0\n",
    "    else:\n",
    "        return 0,0\n",
    "    print(\"\\nDegrees of separation from\",origin,\"-->\",target,\":\",len(sequence))\n",
    "    print(sequence)\n",
    "#     return len(sequence)"
   ]
  },
  {
   "cell_type": "code",
   "execution_count": 7,
   "metadata": {},
   "outputs": [],
   "source": [
    "#Includes mulit-word Wiki pages\n",
    "#Sums each words' embedding in the title of a wiki page to compute the page's representation\n",
    "import numpy as np\n",
    "import string\n",
    "import wikipediaapi \n",
    "wiki = wikipediaapi.Wikipedia('en')\n",
    "def sortLinksSemanticallySummingDisplay(currentPage,target,intermediateLinks,max,visitedLinks):\n",
    "    print(\"Current Path:\",intermediateLinks)\n",
    "    print(\"Pages visited:\",visitedLinks)\n",
    "    pageSimilarity = {} #key is page, value is semantic similarity with target\n",
    "    target_embedding = 0\n",
    "    for word in target.lower().split():\n",
    "        try:\n",
    "            target_embedding +=w2v_embedding[word]\n",
    "        except:\n",
    "            pass\n",
    "    for link in currentPage.links.keys():\n",
    "        \n",
    "        try:\n",
    "            link_embedding = 0\n",
    "            for word in link.lower().split():\n",
    "            \n",
    "                word = word.replace(\",\",\"\")\n",
    "                word = word.replace(\"portal:\",\"\")\n",
    "                word = word.replace(\"category:\",\"\")\n",
    "                word = word.replace(\"talk:\",\"\")\n",
    "                word = word.replace(\"template:\",\"\")\n",
    "                word = word.replace(\"help:\",\"\")\n",
    "                word = word.replace(\"file:\",\"\")\n",
    "                word = word.replace(\"wikipedia:\",\"\")\n",
    "                try:\n",
    "                    link_embedding += w2v_embedding[word]\n",
    "                except:\n",
    "                    pass\n",
    "            if isinstance(link_embedding,np.ndarray):\n",
    "#                 \n",
    "                pageSimilarity[link] = cos_sim(link_embedding,target_embedding)\n",
    "            else:\n",
    "                pass\n",
    "        except:\n",
    "            pass\n",
    "   \n",
    "    if target in pageSimilarity.keys():\n",
    "#         print(\"found it!\")\n",
    "#         print(\"Degrees of separation from\",origin,\"-->\",target,\":\",len(sequence))\n",
    "#         print(intermediateLinks)\n",
    "        return intermediateLinks, max, visitedLinks\n",
    "    else:\n",
    "        max_key = None\n",
    "        for key in pageSimilarity.keys():\n",
    "            if pageSimilarity[key] > max and key.capitalize() not in visitedLinks:\n",
    "                if pageSimilarity[key] < .8:\n",
    "                    try:\n",
    "                        link_obj = wiki.page(key)\n",
    "                        try:\n",
    "                            utility_of_link = len(link_obj.links)\n",
    "                        except:\n",
    "                            utility_of_link = 10\n",
    "                        if utility_of_link > 500:\n",
    "                            max = pageSimilarity[key]\n",
    "                            max_key = key\n",
    "        \n",
    "                    except:\n",
    "                        pass\n",
    "                else:\n",
    "                    link_obj = wiki.page(key)\n",
    "                    utility_of_link = len(link_obj.links)\n",
    "                    if utility_of_link > 100:\n",
    "                        max = pageSimilarity[key]\n",
    "                        max_key = key\n",
    "        if max_key is None:\n",
    "            print(\"backtracking...\")\n",
    "            previous = intermediateLinks[-2]\n",
    "            intermediateLinks = intermediateLinks[:-1]\n",
    "            \n",
    "            previousPageEmbedding = 0\n",
    "            print(\"previous:\",previous)\n",
    "            for word in previous.lower().split():\n",
    "            \n",
    "                word = word.replace(\",\",\"\")\n",
    "                word = word.replace(\"portal:\",\"\")\n",
    "                word = word.replace(\"category:\",\"\")\n",
    "                word = word.replace(\"talk:\",\"\")\n",
    "                word = word.replace(\"template:\",\"\")\n",
    "                word = word.replace(\"help:\",\"\")\n",
    "                word = word.replace(\"file:\",\"\")\n",
    "                word = word.replace(\"wikipedia:\",\"\")\n",
    "                try:\n",
    "                    previousPageEmbedding += w2v_embedding[word]\n",
    "                except:\n",
    "                    pass\n",
    "            max = cos_sim(previousPageEmbedding,target_embedding)\n",
    "            print(max)\n",
    "    \n",
    "            tempPrevious = previous.replace(\" \", \"_\")\n",
    "            previousPage = wiki.page(tempPrevious)\n",
    "            if not previousPage.exists():  \n",
    "                print(\"couldnt find page for\",tempPrevious)\n",
    "                previous = string.capwords(previous)\n",
    "                previous = previous.replace(\" \", \"_\")\n",
    "                print(\"trying to find page for\",previous)\n",
    "                previousPage = wiki.page(previous)\n",
    "            sortLinksSemanticallySummingDisplay(previousPage,target,intermediateLinks,max,visitedLinks)\n",
    "        else:\n",
    "            print(\"Current Page:\",max_key,\" - \",max,\"to target\")\n",
    "            intermediateLinks.append(max_key.capitalize())\n",
    "            visitedLinks.append(max_key.capitalize())\n",
    "            \n",
    "            \n",
    "            temp_max_key = max_key.replace(\" \", \"_\")\n",
    "            nextPage = wiki.page(temp_max_key)\n",
    "            if not nextPage.exists(): \n",
    "                print(\"page doesn't exist for\",temp_max_key)\n",
    "                max_key = string.capwords(max_key)\n",
    "                max_key = max_key.replace(\" \", \"_\")\n",
    "                print(\"attempting to find page for\",max_key)\n",
    "                nextPage = wiki.page(max_key)\n",
    "    \n",
    "    \n",
    "            sortLinksSemanticallySummingDisplay(nextPage,target,intermediateLinks,max,visitedLinks)\n",
    "        return intermediateLinks, max, visitedLinks\n",
    "\n",
    "def findDistanceSummingDisplay(origin,target):\n",
    "    originPage = wiki.page(origin)\n",
    "    targetPage = wiki.page(target)\n",
    "    print(\"Initial Page:\",wiki.extracts(originPage,exsentences=1))\n",
    "    print(\"Target Page:\",wiki.extracts(targetPage,exsentences=1))\n",
    "    if(originPage.exists()):\n",
    "        if(targetPage.exists()):\n",
    "            intermediateLinks = []\n",
    "            visitedLinks = []\n",
    "            try:\n",
    "                sequence, max, finalVisitedLinks = sortLinksSemanticallySummingDisplay(originPage,target,intermediateLinks, 0,visitedLinks)\n",
    "            except:\n",
    "                return 0,0\n",
    "                pass\n",
    "        else:\n",
    "            print(targetPage,\"is not a page on Wiki\")\n",
    "    else:\n",
    "            print(originPage,\"is not a page on Wiki\")\n",
    "    print(\"\\n Degrees of separation from\",origin,\"-->\",target,\":\",len(sequence))\n",
    "    print(\"Final path of intermediate links:\",sequence)\n",
    "    \n",
    "    return "
   ]
  },
  {
   "cell_type": "code",
   "execution_count": 11,
   "metadata": {},
   "outputs": [
    {
     "name": "stdout",
     "output_type": "stream",
     "text": [
      "Initial Page: The cat (Felis catus) is a domestic species of small carnivorous mammal.\n",
      "Target Page: A computer is a machine that can be programmed to carry out sequences of arithmetic or logical operations (computation) automatically.\n",
      "caling sortlinks\n",
      "Path []\n",
      "Current Page: Microsoft  -  0.68780464 to target\n",
      "Path ['Microsoft']\n",
      "Current Page: Software  -  0.8373123 to target\n",
      "Path ['Microsoft', 'Software']\n",
      "Current Page: Programmer  -  0.5939966 to target\n",
      "Path ['Microsoft', 'Software', 'Programmer']\n",
      "Current Page: IBM  -  0.676206 to target\n",
      "Path ['Microsoft', 'Software', 'Programmer', 'Ibm']\n",
      "Current Page: Intel  -  0.606277 to target\n",
      "Path ['Microsoft', 'Software', 'Programmer', 'Ibm', 'Intel']\n",
      "Current Page: Technology  -  0.76421595 to target\n",
      "Path ['Microsoft', 'Software', 'Programmer', 'Ibm', 'Intel', 'Technology']\n",
      "\n",
      "Degrees of separation from Cat --> Computer : 6\n",
      "['Microsoft', 'Software', 'Programmer', 'Ibm', 'Intel', 'Technology']\n"
     ]
    }
   ],
   "source": [
    "# The findDistanceSingle function only takes single word wiki pages as arguments\n",
    "\n",
    "#Run this example, or replace the arguements with single word Wiki pages. Capitlization matters\n",
    "findDistanceSingle(\"Cat\", \"Computer\")"
   ]
  },
  {
   "cell_type": "code",
   "execution_count": 12,
   "metadata": {},
   "outputs": [
    {
     "name": "stdout",
     "output_type": "stream",
     "text": [
      "Initial Page: In philosophy of mind, the computational theory of mind (CTM), also known as computationalism, is a family of views that hold that the human mind is an information processing system and that cognition and consciousness together are a form of computation.\n",
      "Target Page: The potato is a starchy food, a tuber of the plant Solanum tuberosum and is a root vegetable native to the Americas.\n",
      "Current Path: []\n",
      "Pages visited: []\n",
      "Current Page: Natural selection  -  0.2917805 to target\n",
      "Current Path: ['Natural selection']\n",
      "Pages visited: ['Natural selection']\n",
      "Current Page: Evolution of fish  -  0.37907445 to target\n",
      "Current Path: ['Natural selection', 'Evolution of fish']\n",
      "Pages visited: ['Natural selection', 'Evolution of fish']\n",
      "Current Page: Fish farming  -  0.61032027 to target\n",
      "Current Path: ['Natural selection', 'Evolution of fish', 'Fish farming']\n",
      "Pages visited: ['Natural selection', 'Evolution of fish', 'Fish farming']\n",
      "Current Page: Cheese  -  0.7155594 to target\n",
      "Current Path: ['Natural selection', 'Evolution of fish', 'Fish farming', 'Cheese']\n",
      "Pages visited: ['Natural selection', 'Evolution of fish', 'Fish farming', 'Cheese']\n",
      "Current Page: Peanut sauce  -  0.7423071 to target\n",
      "Current Path: ['Natural selection', 'Evolution of fish', 'Fish farming', 'Cheese', 'Peanut sauce']\n",
      "Pages visited: ['Natural selection', 'Evolution of fish', 'Fish farming', 'Cheese', 'Peanut sauce']\n",
      "\n",
      " Degrees of separation from Computational theory of mind --> Potato : 5\n",
      "Final path of intermediate links: ['Natural selection', 'Evolution of fish', 'Fish farming', 'Cheese', 'Peanut sauce']\n"
     ]
    }
   ],
   "source": [
    "#The findDistanceAverage search includes mulit-word Wiki pages. This means that in addition to being able to\n",
    "#use Wiki pages with titles that are more than one word, the origin and / or target Wiki pages can also be multi-word pages.\n",
    "\n",
    "#Run this example, or replace the arguements with single or multi-word Wiki pages. Capitlization matters\n",
    "findDistanceSummingDisplay(\"Computational theory of mind\", \"Potato\")"
   ]
  },
  {
   "cell_type": "code",
   "execution_count": null,
   "metadata": {},
   "outputs": [],
   "source": [
    "# the rest of the cells are for data collection and other experiments, and can be ignored"
   ]
  },
  {
   "cell_type": "code",
   "execution_count": 4,
   "metadata": {
    "scrolled": true
   },
   "outputs": [],
   "source": [
    "#averaging\n",
    "import numpy as np\n",
    "import wikipediaapi \n",
    "wiki = wikipediaapi.Wikipedia('en')\n",
    "\n",
    "def sortLinksSemanticallyAverage(currentPage,target,intermediateLinks):\n",
    "    \n",
    "    pageSimilarity = {} #key is page, value is semantic similarity with target\n",
    "    for link in currentPage.links.keys():\n",
    "        try:\n",
    "            link_embedding = 0\n",
    "            vov = []\n",
    "            for word in link.lower().split():\n",
    "                word = word.replace(\",\",\"\")\n",
    "                vov.append(w2v_embedding[word])\n",
    "            vov = np.array(vov)\n",
    "            link_embedding = np.average(vov,axis=0)\n",
    "            target_embedding = w2v_embedding[target]\n",
    "            pageSimilarity[link] = cos_sim(link_embedding,target_embedding)\n",
    "            \n",
    "        except:\n",
    "            pass\n",
    "    \n",
    "    sorted_keys = sorted(pageSimilarity, key=pageSimilarity.get)\n",
    "    max_key = max(pageSimilarity, key=pageSimilarity.get)\n",
    "    while(max_key.capitalize() in intermediateLinks):\n",
    "        del pageSimilarity[max_key]\n",
    "        max_key = max(pageSimilarity, key=pageSimilarity.get)\n",
    "    \n",
    "   \n",
    "    if target.capitalize() in pageSimilarity.keys():\n",
    "        return intermediateLinks\n",
    "    else:\n",
    "        intermediateLinks.append(max_key.capitalize())\n",
    "        nextPage = wiki.page(max_key.replace(\" \", \"_\"))\n",
    "        sortLinksSemanticallyAverage(nextPage,target,intermediateLinks)\n",
    "        return intermediateLinks\n",
    "\n",
    "def findDistanceAverage(origin,target):\n",
    "    print(\"running findDistance\")\n",
    "    try:\n",
    "        w2v_embedding.similarity(origin,target)\n",
    "        originPage = wiki.page(origin.capitalize())\n",
    "        targetPage = wiki.page(target.capitalize())\n",
    "        print(wiki.extracts(originPage,exsentences=1))\n",
    "        print(wiki.extracts(targetPage,exsentences=1))\n",
    "        if(originPage.exists()):\n",
    "            if(targetPage.exists()):\n",
    "                intermediateLinks = []\n",
    "                sequence = sortLinksSemanticallyAverage(originPage,target,intermediateLinks)\n",
    "            else:\n",
    "                print(targetPage,\"is not a page on Wiki\")\n",
    "        else:\n",
    "                print(originPage,\"is not a page on Wiki\")\n",
    "        print(\"Degrees of separation from\",origin,\"-->\",target,\":\",len(sequence))\n",
    "        print(sequence)\n",
    "    except:\n",
    "        print(\"an exception occured\")\n",
    "        pass"
   ]
  },
  {
   "cell_type": "code",
   "execution_count": 2,
   "metadata": {},
   "outputs": [],
   "source": [
    "#unused function for testing\n",
    "def averageWordsInSummarySimilarity(currentPage,targetWord): \n",
    "    scores = [] \n",
    "    for word in currentPage.summary.splits(\" \"): \n",
    "        try: \n",
    "            print(word)\n",
    "            scores.append( w2v_embedding.similarity(word,target))\n",
    "        except: \n",
    "            pass\n",
    "    return mean(scores)"
   ]
  },
  {
   "cell_type": "code",
   "execution_count": 7,
   "metadata": {},
   "outputs": [],
   "source": [
    "#summing\n",
    "import numpy as np\n",
    "import wikipediaapi \n",
    "wiki = wikipediaapi.Wikipedia('en')\n",
    "\n",
    "def sortLinksSemanticallySummingDataCollection(currentPage,target,intermediateLinks,max,visitedLinks):\n",
    "    pageSimilarity = {} #key is page, value is semantic similarity with target\n",
    "    target_embedding = 0\n",
    "    for word in target.lower().split():\n",
    "        target_embedding +=w2v_embedding[word]\n",
    "\n",
    "    for link in currentPage.links.keys():\n",
    "        try:\n",
    "            link_embedding = 0\n",
    "            for word in link.lower().split():\n",
    "            \n",
    "                word = word.replace(\",\",\"\")\n",
    "                word = word.replace(\"portal:\",\"\")\n",
    "                word = word.replace(\"category:\",\"\")\n",
    "                word = word.replace(\"talk:\",\"\")\n",
    "                word = word.replace(\"template:\",\"\")\n",
    "                word = word.replace(\"help:\",\"\")\n",
    "                word = word.replace(\"file:\",\"\")\n",
    "                word = word.replace(\"wikipedia:\",\"\")\n",
    "                try:\n",
    "                    link_embedding += w2v_embedding[word]\n",
    "                except:\n",
    "                    pass\n",
    "            if isinstance(link_embedding,np.ndarray):\n",
    "#                 \n",
    "                pageSimilarity[link] = cos_sim(link_embedding,target_embedding)\n",
    "            else:\n",
    "                pass\n",
    "        except:\n",
    "            pass\n",
    "    \n",
    "    \n",
    "   \n",
    "    if target in pageSimilarity.keys():\n",
    "        return intermediateLinks, max, visitedLinks\n",
    "    else:\n",
    "        max_key = None\n",
    "        for key in pageSimilarity.keys():\n",
    "            if pageSimilarity[key] > max and key.capitalize() not in visitedLinks:\n",
    "                if pageSimilarity[key] < .8:\n",
    "                    link_obj = wiki.page(key)\n",
    "                    utility_of_link = len(link_obj.links)\n",
    "                    if utility_of_link > 500:\n",
    "                        max = pageSimilarity[key]\n",
    "                        max_key = key\n",
    "                    else:\n",
    "                        pass\n",
    "                else:\n",
    "                    link_obj = wiki.page(key)\n",
    "                    utility_of_link = len(link_obj.links)\n",
    "                    if utility_of_link > 100:\n",
    "                        max = pageSimilarity[key]\n",
    "                        max_key = key\n",
    "        if max_key is None:\n",
    "#             print(\"backtracking...\")\n",
    "            previous = intermediateLinks[-2]\n",
    "            previousPage = wiki.page(previous.replace(\" \", \"_\"))\n",
    "#             visitedLinks = intermediateLinks\n",
    "#             visitedLinks.append(intermediateLinks[-1])\n",
    "            intermediateLinks = intermediateLinks[:-1]\n",
    "            \n",
    "            previousPageEmbedding = 0\n",
    "#             print(\"previous:\",previous)\n",
    "            for word in previous.lower().split():\n",
    "            \n",
    "                word = word.replace(\",\",\"\")\n",
    "                word = word.replace(\"portal:\",\"\")\n",
    "                word = word.replace(\"category:\",\"\")\n",
    "                word = word.replace(\"talk:\",\"\")\n",
    "                word = word.replace(\"template:\",\"\")\n",
    "                word = word.replace(\"help:\",\"\")\n",
    "                word = word.replace(\"file:\",\"\")\n",
    "                word = word.replace(\"wikipedia:\",\"\")\n",
    "#                 print(word)\n",
    "                try:\n",
    "#                     print(w2v_embedding[word])\n",
    "                    previousPageEmbedding += w2v_embedding[word]\n",
    "                except:\n",
    "                    pass\n",
    "            max = cos_sim(previousPageEmbedding,target_embedding)\n",
    "#             print(max)\n",
    "    \n",
    "    \n",
    "            sortLinksSemanticallySummingDataCollection(previousPage,target,intermediateLinks,max,visitedLinks)\n",
    "        else:\n",
    "#             print(max_key,max)\n",
    "    #         print(\"not found yet\")\n",
    "            intermediateLinks.append(max_key.capitalize())\n",
    "            visitedLinks.append(max_key.capitalize())\n",
    "            nextPage = wiki.page(max_key.replace(\" \", \"_\"))\n",
    "    #         visitedLinks = intermediateLinks\n",
    "            sortLinksSemanticallySummingDataCollection(nextPage,target,intermediateLinks,max,visitedLinks)\n",
    "        return intermediateLinks, max, visitedLinks\n",
    "#     return intermediateLinks, max, visitedLinks\n",
    "\n",
    "def findDistanceSummingDataCollection(origin,target):\n",
    "    print(\"Running findDistance\")\n",
    "    originPage = wiki.page(origin)\n",
    "    targetPage = wiki.page(target)\n",
    "#     print(targetPage.exists())\n",
    "#     print(targetPage.fullurl)\n",
    "#     print(targetPage.title)\n",
    "#         print(\"originPage:\",originPage)\n",
    "#         print(\"targetPage:\",targetPage)\n",
    "#         print(originPage.title)\n",
    "#         print(targetPage.title)\n",
    "#     print(wiki.extracts(originPage,exsentences=1))\n",
    "    print(\"Initial Page:\",wiki.extracts(originPage,exsentences=1))\n",
    "    print(\"Target Page:\",wiki.extracts(targetPage,exsentences=1))\n",
    "    if(originPage.exists()):\n",
    "        if(targetPage.exists()):\n",
    "            intermediateLinks = []\n",
    "            visitedLinks = []\n",
    "            try:\n",
    "                print(\"caling sortlinks\")\n",
    "                sequence, max, finalVisitedLinks = sortLinksSemanticallySummingDataCollection(originPage,target,intermediateLinks, 0,visitedLinks)\n",
    "            except:\n",
    "                \n",
    "                return 0,0\n",
    "#                 pass\n",
    "            print(sequence)\n",
    "            print(finalVisitedLinks)\n",
    "        else:\n",
    "            return 0,0\n",
    "    else:\n",
    "        return 0,0\n",
    "    return len(sequence),len(finalVisitedLinks)"
   ]
  },
  {
   "cell_type": "code",
   "execution_count": 76,
   "metadata": {},
   "outputs": [],
   "source": [
    "degreesSingle = []\n",
    "degreesMulti = []"
   ]
  },
  {
   "cell_type": "code",
   "execution_count": 77,
   "metadata": {},
   "outputs": [
    {
     "name": "stdout",
     "output_type": "stream",
     "text": [
      "Initial Page: Electromagnetism is a branch of physics involving the study of the electromagnetic force, a type of physical interaction that occurs between electrically charged particles.\n",
      "Target Page: A lake is an area filled with water, localized in a basin, surrounded by land, and set apart from any river or other outlet that serves to feed or drain the lake.\n",
      "Current path: []\n",
      "Pages visited: []\n",
      "Alaska 0.54677516\n",
      "Current path: ['Alaska']\n",
      "Pages visited: ['Alaska']\n",
      "Colorado River 0.760707\n",
      "Current path: ['Alaska', 'Colorado river']\n",
      "Pages visited: ['Alaska', 'Colorado river']\n",
      "Lake Mead 0.9102244\n",
      "Current path: ['Alaska', 'Colorado river', 'Lake mead']\n",
      "Pages visited: ['Alaska', 'Colorado river', 'Lake mead']\n",
      "Degrees of separation from Electromagnetism --> Lake : 3\n",
      "['Alaska', 'Colorado river', 'Lake mead']\n"
     ]
    }
   ],
   "source": [
    "degree = findDistanceSummingDisplay(\"Electromagnetism\", \"Lake\")\n",
    "degreesMulti.append(degree)"
   ]
  },
  {
   "cell_type": "code",
   "execution_count": 78,
   "metadata": {},
   "outputs": [
    {
     "name": "stdout",
     "output_type": "stream",
     "text": [
      "Running findDistance\n",
      "Initial Page: Electromagnetism is a branch of physics involving the study of the electromagnetic force, a type of physical interaction that occurs between electrically charged particles.\n",
      "Target Page: A lake is an area filled with water, localized in a basin, surrounded by land, and set apart from any river or other outlet that serves to feed or drain the lake.\n",
      "caling sortlinks\n",
      "[]\n",
      "Alaska 0.54677516\n",
      "['Alaska']\n",
      "Utah 0.53627855\n",
      "['Alaska', 'Utah']\n",
      "Montana 0.50585765\n",
      "['Alaska', 'Utah', 'Montana']\n",
      "County 0.53242743\n",
      "['Alaska', 'Utah', 'Montana', 'County']\n",
      "Township 0.54390454\n",
      "['Alaska', 'Utah', 'Montana', 'County', 'Township']\n",
      "Village 0.5401419\n",
      "['Alaska', 'Utah', 'Montana', 'County', 'Township', 'Village']\n",
      "Island 0.5870456\n",
      "['Alaska', 'Utah', 'Montana', 'County', 'Township', 'Village', 'Island']\n",
      "Shore 0.6264014\n",
      "['Alaska', 'Utah', 'Montana', 'County', 'Township', 'Village', 'Island', 'Shore']\n",
      "['Alaska', 'Utah', 'Montana', 'County', 'Township', 'Village', 'Island', 'Shore']\n",
      "Degrees of separation from Electromagnetism --> Lake : 8\n",
      "['Alaska', 'Utah', 'Montana', 'County', 'Township', 'Village', 'Island', 'Shore']\n"
     ]
    }
   ],
   "source": [
    "degree = findDistanceSingle(\"Electromagnetism\", \"Lake\")\n",
    "degreesSingle.append(degree)"
   ]
  },
  {
   "cell_type": "code",
   "execution_count": 79,
   "metadata": {},
   "outputs": [
    {
     "data": {
      "text/plain": [
       "[3]"
      ]
     },
     "execution_count": 79,
     "metadata": {},
     "output_type": "execute_result"
    }
   ],
   "source": [
    "degreesMulti"
   ]
  },
  {
   "cell_type": "code",
   "execution_count": 80,
   "metadata": {},
   "outputs": [
    {
     "name": "stdout",
     "output_type": "stream",
     "text": [
      "Initial Page: Anxiety is an emotion characterized by an unpleasant state of inner turmoil and includes subjectively unpleasant feelings of dread over anticipated events.\n",
      "Target Page: Electroencephalography (EEG) is a method to record an electrogram of the electrical activity on the scalp that has been shown to represent the macroscopic activity of the surface layer of the brain underneath.\n",
      "Current path: []\n",
      "Pages visited: []\n",
      "Positron emission tomography 0.34042275\n",
      "Current path: ['Positron emission tomography']\n",
      "Pages visited: ['Positron emission tomography']\n",
      "Perfusion 0.4172318\n",
      "Current path: ['Positron emission tomography', 'Perfusion']\n",
      "Pages visited: ['Positron emission tomography', 'Perfusion']\n",
      "Electrocardiography 0.61496073\n",
      "Current path: ['Positron emission tomography', 'Perfusion', 'Electrocardiography']\n",
      "Pages visited: ['Positron emission tomography', 'Perfusion', 'Electrocardiography']\n",
      "Degrees of separation from Anxiety --> Electroencephalography : 3\n",
      "['Positron emission tomography', 'Perfusion', 'Electrocardiography']\n"
     ]
    }
   ],
   "source": [
    "degree = findDistanceSummingDisplay(\"Anxiety\", \"Electroencephalography\")\n",
    "degreesMulti.append(degree)"
   ]
  },
  {
   "cell_type": "code",
   "execution_count": 81,
   "metadata": {},
   "outputs": [
    {
     "name": "stdout",
     "output_type": "stream",
     "text": [
      "Running findDistance\n",
      "Initial Page: Anxiety is an emotion characterized by an unpleasant state of inner turmoil and includes subjectively unpleasant feelings of dread over anticipated events.\n",
      "Target Page: Electroencephalography (EEG) is a method to record an electrogram of the electrical activity on the scalp that has been shown to represent the macroscopic activity of the surface layer of the brain underneath.\n",
      "caling sortlinks\n",
      "[]\n",
      "Stimulation 0.4314241\n",
      "['Stimulation']\n",
      "Arousal 0.33144826\n",
      "['Stimulation', 'Arousal']\n",
      "['Stimulation', 'Arousal']\n",
      "Degrees of separation from Anxiety --> Electroencephalography : 2\n",
      "['Stimulation', 'Arousal']\n"
     ]
    }
   ],
   "source": [
    "degree = findDistanceSingle(\"Anxiety\", \"Electroencephalography\")\n",
    "degreesSingle.append(degree)"
   ]
  },
  {
   "cell_type": "code",
   "execution_count": 82,
   "metadata": {},
   "outputs": [
    {
     "name": "stdout",
     "output_type": "stream",
     "text": [
      "Initial Page: Feces (or faeces) is the solid or semi-solid remains of food that was not digested in the small intestine, and has been broken down by bacteria in the large intestine.\n",
      "Target Page: Theatre or theater is a collaborative form of performing art that uses live performers, usually actors or actresses, to present the experience of a real or imagined event before a live audience in a specific place, often a stage.\n",
      "Current path: []\n",
      "Pages visited: []\n",
      "Science 0.4033437\n",
      "Current path: ['Science']\n",
      "Pages visited: ['Science']\n",
      "Academy 0.6424194\n",
      "Current path: ['Science', 'Academy']\n",
      "Pages visited: ['Science', 'Academy']\n",
      "Royal Academy of Music 0.6604944\n",
      "Current path: ['Science', 'Academy', 'Royal academy of music']\n",
      "Pages visited: ['Science', 'Academy', 'Royal academy of music']\n",
      "Opera 0.7293995\n",
      "Current path: ['Science', 'Academy', 'Royal academy of music', 'Opera']\n",
      "Pages visited: ['Science', 'Academy', 'Royal academy of music', 'Opera']\n",
      "Degrees of separation from Feces --> Theatre : 4\n",
      "['Science', 'Academy', 'Royal academy of music', 'Opera']\n"
     ]
    }
   ],
   "source": [
    "degree = findDistanceSummingDisplay(\"Feces\", \"Theatre\")\n",
    "degreesMulti.append(degree)"
   ]
  },
  {
   "cell_type": "code",
   "execution_count": 83,
   "metadata": {},
   "outputs": [
    {
     "name": "stdout",
     "output_type": "stream",
     "text": [
      "Running findDistance\n",
      "Initial Page: Feces (or faeces) is the solid or semi-solid remains of food that was not digested in the small intestine, and has been broken down by bacteria in the large intestine.\n",
      "Target Page: Theatre or theater is a collaborative form of performing art that uses live performers, usually actors or actresses, to present the experience of a real or imagined event before a live audience in a specific place, often a stage.\n",
      "caling sortlinks\n",
      "[]\n",
      "Science 0.4033437\n",
      "['Science']\n",
      "Academy 0.6424194\n",
      "['Science', 'Academy']\n",
      "Arts 0.67265415\n",
      "['Science', 'Academy', 'Arts']\n",
      "['Science', 'Academy', 'Arts']\n",
      "Degrees of separation from Feces --> Theatre : 3\n",
      "['Science', 'Academy', 'Arts']\n"
     ]
    }
   ],
   "source": [
    "degree = findDistanceSingle(\"Feces\", \"Theatre\")\n",
    "degreesSingle.append(degree)"
   ]
  },
  {
   "cell_type": "code",
   "execution_count": 84,
   "metadata": {},
   "outputs": [
    {
     "data": {
      "text/plain": [
       "[3, 3, 4]"
      ]
     },
     "execution_count": 84,
     "metadata": {},
     "output_type": "execute_result"
    }
   ],
   "source": [
    "degreesMulti"
   ]
  },
  {
   "cell_type": "code",
   "execution_count": 85,
   "metadata": {},
   "outputs": [
    {
     "name": "stdout",
     "output_type": "stream",
     "text": [
      "Initial Page: Trade involves the transfer of goods and services from one person or entity to another, often in exchange for money.\n",
      "Target Page: A mango is an edible stone fruit produced by the tropical tree Mangifera indica which is believed to have originated from the region between northwestern Myanmar, Bangladesh, and northeastern India.\n",
      "Current path: []\n",
      "Pages visited: []\n",
      "Coconut 0.7658856\n",
      "Current path: ['Coconut']\n",
      "Pages visited: ['Coconut']\n",
      "backtracking...\n"
     ]
    }
   ],
   "source": [
    "degree = findDistanceSummingDisplay(\"Trade\", \"Mango\")\n",
    "degreesMulti.append(degree)"
   ]
  },
  {
   "cell_type": "code",
   "execution_count": 149,
   "metadata": {},
   "outputs": [
    {
     "name": "stdout",
     "output_type": "stream",
     "text": [
      "Running findDistance\n",
      "Initial Page: Trade involves the transfer of goods and services from one person or entity to another, often in exchange for money.\n",
      "Target Page: A mango is an edible stone fruit produced by the tropical tree Mangifera indica which is believed to have originated from the region between northwestern Myanmar, Bangladesh, and northeastern India.\n",
      "caling sortlinks\n",
      "[]\n",
      "Coconut 0.7658856\n",
      "['Coconut']\n",
      "Avocado 0.7857657\n",
      "['Coconut', 'Avocado']\n",
      "Pear 0.7619122\n",
      "['Coconut', 'Avocado', 'Pear']\n",
      "Banana 0.7054824\n",
      "['Coconut', 'Avocado', 'Pear', 'Banana']\n",
      "Fruit 0.70177424\n",
      "['Coconut', 'Avocado', 'Pear', 'Banana', 'Fruit']\n",
      "['Coconut', 'Avocado', 'Pear', 'Banana', 'Fruit']\n",
      "Degrees of separation from Trade --> Mango : 5\n",
      "['Coconut', 'Avocado', 'Pear', 'Banana', 'Fruit']\n"
     ]
    }
   ],
   "source": [
    "degree = findDistanceSingle(\"Trade\", \"Mango\")\n",
    "degreesSingle.insert(3,degree)"
   ]
  },
  {
   "cell_type": "code",
   "execution_count": 148,
   "metadata": {},
   "outputs": [
    {
     "data": {
      "text/plain": [
       "[8, 2, 3, 1, 20, 2, 7, 11, 3, 3, 9, 1, 3, 5, 0, 3, 1, 1, 2, 3, 6, 5, 3, 7]"
      ]
     },
     "execution_count": 148,
     "metadata": {},
     "output_type": "execute_result"
    }
   ],
   "source": [
    "degreesSingle"
   ]
  },
  {
   "cell_type": "code",
   "execution_count": 87,
   "metadata": {},
   "outputs": [
    {
     "name": "stdout",
     "output_type": "stream",
     "text": [
      "Initial Page: In biology, a mutation is an alteration in the nucleic acid sequence of the genome of an organism, virus, or extrachromosomal DNA. Viral genomes contain either DNA or RNA. Mutations result from errors during DNA or viral replication, mitosis, or meiosis or other types of damage to DNA (such as pyrimidine dimers caused by exposure to ultraviolet radiation), which then may undergo error-prone repair (especially microhomology-mediated end joining), cause an error during other forms of repair, or cause an error during replication (translesion synthesis).\n",
      "Target Page: Neuroscience is the scientific study of the nervous system.\n",
      "Current path: []\n",
      "Pages visited: []\n",
      "Evolutionary neuroscience 0.88140506\n",
      "Current path: ['Evolutionary neuroscience']\n",
      "Pages visited: ['Evolutionary neuroscience']\n",
      "Degrees of separation from Mutation --> Neuroscience : 1\n",
      "['Evolutionary neuroscience']\n"
     ]
    }
   ],
   "source": [
    "degree = findDistanceSummingDisplay(\"Mutation\", \"Neuroscience\")\n",
    "degreesMulti.append(degree)"
   ]
  },
  {
   "cell_type": "code",
   "execution_count": 88,
   "metadata": {},
   "outputs": [
    {
     "name": "stdout",
     "output_type": "stream",
     "text": [
      "Running findDistance\n",
      "Initial Page: In biology, a mutation is an alteration in the nucleic acid sequence of the genome of an organism, virus, or extrachromosomal DNA. Viral genomes contain either DNA or RNA. Mutations result from errors during DNA or viral replication, mitosis, or meiosis or other types of damage to DNA (such as pyrimidine dimers caused by exposure to ultraviolet radiation), which then may undergo error-prone repair (especially microhomology-mediated end joining), cause an error during other forms of repair, or cause an error during replication (translesion synthesis).\n",
      "Target Page: Neuroscience is the scientific study of the nervous system.\n",
      "caling sortlinks\n",
      "[]\n",
      "Genetics 0.7483798\n",
      "['Genetics']\n",
      "['Genetics']\n",
      "Degrees of separation from Mutation --> Neuroscience : 1\n",
      "['Genetics']\n"
     ]
    }
   ],
   "source": [
    "degree = findDistanceSingle(\"Mutation\", \"Neuroscience\")\n",
    "degreesSingle.append(degree)"
   ]
  },
  {
   "cell_type": "code",
   "execution_count": 89,
   "metadata": {},
   "outputs": [
    {
     "name": "stdout",
     "output_type": "stream",
     "text": [
      "Initial Page: Eukaryotes () are organisms whose cells have a nucleus enclosed within a nuclear envelope.\n",
      "Target Page: A game is a structured form of play, usually undertaken for entertainment or fun, and sometimes used as an educational tool.\n",
      "Current path: []\n",
      "Pages visited: []\n",
      "The New York Times 0.5771679\n",
      "Current path: ['The new york times']\n",
      "Pages visited: ['The new york times']\n",
      "Video game 0.89016205\n",
      "Current path: ['The new york times', 'Video game']\n",
      "Pages visited: ['The new york times', 'Video game']\n",
      "Degrees of separation from Eukaryote --> Game : 2\n",
      "['The new york times', 'Video game']\n"
     ]
    }
   ],
   "source": [
    "degree = findDistanceSummingDisplay(\"Eukaryote\", \"Game\")\n",
    "degreesMulti.append(degree)"
   ]
  },
  {
   "cell_type": "code",
   "execution_count": 90,
   "metadata": {},
   "outputs": [
    {
     "name": "stdout",
     "output_type": "stream",
     "text": [
      "Running findDistance\n",
      "Initial Page: Eukaryotes () are organisms whose cells have a nucleus enclosed within a nuclear envelope.\n",
      "Target Page: A game is a structured form of play, usually undertaken for entertainment or fun, and sometimes used as an educational tool.\n",
      "caling sortlinks\n",
      "[]\n",
      "Life 0.48069265\n",
      "['Life']\n",
      "Time 0.68046665\n",
      "['Life', 'Time']\n",
      "Season 0.77331936\n",
      "['Life', 'Time', 'Season']\n",
      "History 0.5629132\n",
      "['Life', 'Time', 'Season', 'History']\n",
      "Past 0.5599439\n",
      "['Life', 'Time', 'Season', 'History', 'Past']\n",
      "Minute 0.5287671\n",
      "['Life', 'Time', 'Season', 'History', 'Past', 'Minute']\n",
      "Second 0.6956585\n",
      "['Life', 'Time', 'Season', 'History', 'Past', 'Minute', 'Second']\n",
      "Week 0.5775604\n",
      "['Life', 'Time', 'Season', 'History', 'Past', 'Minute', 'Second', 'Week']\n",
      "Day 0.5654173\n",
      "['Life', 'Time', 'Season', 'History', 'Past', 'Minute', 'Second', 'Week', 'Day']\n",
      "Night 0.6454075\n",
      "['Life', 'Time', 'Season', 'History', 'Past', 'Minute', 'Second', 'Week', 'Day', 'Night']\n",
      "Summer 0.48821682\n",
      "['Life', 'Time', 'Season', 'History', 'Past', 'Minute', 'Second', 'Week', 'Day', 'Night', 'Summer']\n",
      "Baseball 0.6413263\n",
      "['Life', 'Time', 'Season', 'History', 'Past', 'Minute', 'Second', 'Week', 'Day', 'Night', 'Summer', 'Baseball']\n",
      "Football 0.65457255\n",
      "['Life', 'Time', 'Season', 'History', 'Past', 'Minute', 'Second', 'Week', 'Day', 'Night', 'Summer', 'Baseball', 'Football']\n",
      "NFL 0.6445692\n",
      "['Life', 'Time', 'Season', 'History', 'Past', 'Minute', 'Second', 'Week', 'Day', 'Night', 'Summer', 'Baseball', 'Football', 'Nfl']\n",
      "Seattle 0.53680634\n",
      "['Life', 'Time', 'Season', 'History', 'Past', 'Minute', 'Second', 'Week', 'Day', 'Night', 'Summer', 'Baseball', 'Football', 'Nfl', 'Seattle']\n",
      "Dallas 0.5421331\n",
      "['Life', 'Time', 'Season', 'History', 'Past', 'Minute', 'Second', 'Week', 'Day', 'Night', 'Summer', 'Baseball', 'Football', 'Nfl', 'Seattle', 'Dallas']\n",
      "NHL 0.5842599\n",
      "['Life', 'Time', 'Season', 'History', 'Past', 'Minute', 'Second', 'Week', 'Day', 'Night', 'Summer', 'Baseball', 'Football', 'Nfl', 'Seattle', 'Dallas', 'Nhl']\n",
      "Pittsburgh 0.52507806\n",
      "['Life', 'Time', 'Season', 'History', 'Past', 'Minute', 'Second', 'Week', 'Day', 'Night', 'Summer', 'Baseball', 'Football', 'Nfl', 'Seattle', 'Dallas', 'Nhl', 'Pittsburgh']\n",
      "NBA 0.645449\n",
      "['Life', 'Time', 'Season', 'History', 'Past', 'Minute', 'Second', 'Week', 'Day', 'Night', 'Summer', 'Baseball', 'Football', 'Nfl', 'Seattle', 'Dallas', 'Nhl', 'Pittsburgh', 'Nba']\n",
      "Basketball 0.6303944\n",
      "['Life', 'Time', 'Season', 'History', 'Past', 'Minute', 'Second', 'Week', 'Day', 'Night', 'Summer', 'Baseball', 'Football', 'Nfl', 'Seattle', 'Dallas', 'Nhl', 'Pittsburgh', 'Nba', 'Basketball']\n",
      "['Life', 'Time', 'Season', 'History', 'Past', 'Minute', 'Second', 'Week', 'Day', 'Night', 'Summer', 'Baseball', 'Football', 'Nfl', 'Seattle', 'Dallas', 'Nhl', 'Pittsburgh', 'Nba', 'Basketball']\n",
      "Degrees of separation from Eukaryote --> Game : 20\n",
      "['Life', 'Time', 'Season', 'History', 'Past', 'Minute', 'Second', 'Week', 'Day', 'Night', 'Summer', 'Baseball', 'Football', 'Nfl', 'Seattle', 'Dallas', 'Nhl', 'Pittsburgh', 'Nba', 'Basketball']\n"
     ]
    }
   ],
   "source": [
    "degree = findDistanceSingle(\"Eukaryote\", \"Game\")\n",
    "degreesSingle.append(degree)"
   ]
  },
  {
   "cell_type": "code",
   "execution_count": 91,
   "metadata": {},
   "outputs": [
    {
     "name": "stdout",
     "output_type": "stream",
     "text": [
      "Initial Page: Anesthesia is a state of controlled, temporary loss of sensation or awareness that is induced for medical purposes.\n",
      "Target Page: Tasmania () (Nuenonne/Palawa kani: lutruwita) is an island state of Australia.\n",
      "Current path: []\n",
      "Pages visited: []\n",
      "Launceston, Tasmania 0.9456699\n",
      "Current path: ['Launceston, tasmania']\n",
      "Pages visited: ['Launceston, tasmania']\n",
      "Degrees of separation from Anesthesia --> Tasmania : 1\n",
      "['Launceston, tasmania']\n"
     ]
    }
   ],
   "source": [
    "degree = findDistanceSummingDisplay(\"Anesthesia\", \"Tasmania\")\n",
    "degreesMulti.append(degree)"
   ]
  },
  {
   "cell_type": "code",
   "execution_count": 92,
   "metadata": {},
   "outputs": [
    {
     "name": "stdout",
     "output_type": "stream",
     "text": [
      "Running findDistance\n",
      "Initial Page: Anesthesia is a state of controlled, temporary loss of sensation or awareness that is induced for medical purposes.\n",
      "Target Page: Tasmania () (Nuenonne/Palawa kani: lutruwita) is an island state of Australia.\n",
      "caling sortlinks\n",
      "[]\n",
      "Prehistory 0.19140448\n",
      "['Prehistory']\n",
      "Perth 0.6442722\n",
      "['Prehistory', 'Perth']\n",
      "['Prehistory', 'Perth']\n",
      "Degrees of separation from Anesthesia --> Tasmania : 2\n",
      "['Prehistory', 'Perth']\n"
     ]
    }
   ],
   "source": [
    "degree = findDistanceSingle(\"Anesthesia\", \"Tasmania\")\n",
    "degreesSingle.append(degree)"
   ]
  },
  {
   "cell_type": "code",
   "execution_count": 93,
   "metadata": {},
   "outputs": [
    {
     "name": "stdout",
     "output_type": "stream",
     "text": [
      "Initial Page: Oxycodone, sold under the brand names Roxicodone and OxyContin (which is the extended release form) among others, is a semi-synthetic  opioid medication used for treatment of moderate to severe pain.\n",
      "Target Page: A comedian (fem.\n",
      "Current path: []\n",
      "Pages visited: []\n",
      "Stoner film 0.5082199\n",
      "Current path: ['Stoner film']\n",
      "Pages visited: ['Stoner film']\n",
      "Degrees of separation from Oxycodone --> Comedian : 1\n",
      "['Stoner film']\n"
     ]
    }
   ],
   "source": [
    "degree = findDistanceSummingDisplay(\"Oxycodone\", \"Comedian\")\n",
    "degreesMulti.append(degree)"
   ]
  },
  {
   "cell_type": "code",
   "execution_count": 94,
   "metadata": {},
   "outputs": [
    {
     "name": "stdout",
     "output_type": "stream",
     "text": [
      "Running findDistance\n",
      "Initial Page: Oxycodone, sold under the brand names Roxicodone and OxyContin (which is the extended release form) among others, is a semi-synthetic  opioid medication used for treatment of moderate to severe pain.\n",
      "Target Page: A comedian (fem.\n",
      "caling sortlinks\n",
      "[]\n",
      "Bartender 0.45684925\n",
      "['Bartender']\n",
      "Restaurateur 0.51865065\n",
      "['Bartender', 'Restaurateur']\n",
      "Chef 0.4531261\n",
      "['Bartender', 'Restaurateur', 'Chef']\n",
      "Baker 0.3493629\n",
      "['Bartender', 'Restaurateur', 'Chef', 'Baker']\n",
      "Restaurant 0.23915133\n",
      "['Bartender', 'Restaurateur', 'Chef', 'Baker', 'Restaurant']\n",
      "Seinfeld 0.53707874\n",
      "['Bartender', 'Restaurateur', 'Chef', 'Baker', 'Restaurant', 'Seinfeld']\n",
      "Sitcom 0.6029271\n",
      "['Bartender', 'Restaurateur', 'Chef', 'Baker', 'Restaurant', 'Seinfeld', 'Sitcom']\n",
      "['Bartender', 'Restaurateur', 'Chef', 'Baker', 'Restaurant', 'Seinfeld', 'Sitcom']\n",
      "Degrees of separation from Oxycodone --> Comedian : 7\n",
      "['Bartender', 'Restaurateur', 'Chef', 'Baker', 'Restaurant', 'Seinfeld', 'Sitcom']\n"
     ]
    }
   ],
   "source": [
    "degree = findDistanceSingle(\"Oxycodone\", \"Comedian\")\n",
    "degreesSingle.append(degree)"
   ]
  },
  {
   "cell_type": "code",
   "execution_count": 98,
   "metadata": {},
   "outputs": [
    {
     "name": "stdout",
     "output_type": "stream",
     "text": [
      "Initial Page: Diplomacy refers to spoken or written speech acts by representatives of states (such as leaders and diplomats) intended to influence events in the international system.Diplomacy is the main instrument of foreign policy and global governance which represents the broader goals and strategies that guide a state's interactions with the rest of the world.\n",
      "Target Page: The uterus (from Latin \"uterus\", plural uteri) or womb () is the main female hormone-responsive, secondary sex organ of the reproductive system in humans and most other mammals.\n",
      "Current path: []\n",
      "Pages visited: []\n",
      "Tarim Basin 0.18761432\n",
      "Current path: ['Tarim basin']\n",
      "Pages visited: ['Tarim basin']\n",
      "Turfan 0.19470924\n",
      "Current path: ['Tarim basin', 'Turfan']\n",
      "Pages visited: ['Tarim basin', 'Turfan']\n",
      "Wonton 0.19556765\n",
      "Current path: ['Tarim basin', 'Turfan', 'Wonton']\n",
      "Pages visited: ['Tarim basin', 'Turfan', 'Wonton']\n",
      "Frog legs 0.33839417\n",
      "Current path: ['Tarim basin', 'Turfan', 'Wonton', 'Frog legs']\n",
      "Pages visited: ['Tarim basin', 'Turfan', 'Wonton', 'Frog legs']\n",
      "Cultured meat 0.3586288\n",
      "Current path: ['Tarim basin', 'Turfan', 'Wonton', 'Frog legs', 'Cultured meat']\n",
      "Pages visited: ['Tarim basin', 'Turfan', 'Wonton', 'Frog legs', 'Cultured meat']\n",
      "backtracking...\n",
      "previous: Frog legs\n",
      "0.33839417\n",
      "Current path: ['Tarim basin', 'Turfan', 'Wonton', 'Frog legs']\n",
      "Pages visited: ['Tarim basin', 'Turfan', 'Wonton', 'Frog legs', 'Cultured meat']\n",
      "backtracking...\n",
      "previous: Wonton\n",
      "0.19556765\n",
      "Current path: ['Tarim basin', 'Turfan', 'Wonton']\n",
      "Pages visited: ['Tarim basin', 'Turfan', 'Wonton', 'Frog legs', 'Cultured meat']\n",
      "Suckling pig 0.30130965\n",
      "Current path: ['Tarim basin', 'Turfan', 'Wonton', 'Suckling pig']\n",
      "Pages visited: ['Tarim basin', 'Turfan', 'Wonton', 'Frog legs', 'Cultured meat', 'Suckling pig']\n",
      "Roti tissue 0.47582617\n",
      "Current path: ['Tarim basin', 'Turfan', 'Wonton', 'Suckling pig', 'Roti tissue']\n",
      "Pages visited: ['Tarim basin', 'Turfan', 'Wonton', 'Frog legs', 'Cultured meat', 'Suckling pig', 'Roti tissue']\n",
      "backtracking...\n",
      "previous: Suckling pig\n",
      "0.30130965\n",
      "Current path: ['Tarim basin', 'Turfan', 'Wonton', 'Suckling pig']\n",
      "Pages visited: ['Tarim basin', 'Turfan', 'Wonton', 'Frog legs', 'Cultured meat', 'Suckling pig', 'Roti tissue']\n",
      "Breastfeeding 0.4058048\n",
      "Current path: ['Tarim basin', 'Turfan', 'Wonton', 'Suckling pig', 'Breastfeeding']\n",
      "Pages visited: ['Tarim basin', 'Turfan', 'Wonton', 'Frog legs', 'Cultured meat', 'Suckling pig', 'Roti tissue', 'Breastfeeding']\n",
      "Degrees of separation from Diplomacy --> Uterus : 5\n",
      "['Tarim basin', 'Turfan', 'Wonton', 'Frog legs', 'Cultured meat']\n"
     ]
    }
   ],
   "source": [
    "degree = findDistanceSummingDisplay(\"Diplomacy\", \"Uterus\")\n",
    "degreesMulti.append(degree)\n"
   ]
  },
  {
   "cell_type": "code",
   "execution_count": 99,
   "metadata": {},
   "outputs": [
    {
     "name": "stdout",
     "output_type": "stream",
     "text": [
      "Running findDistance\n",
      "Initial Page: Diplomacy refers to spoken or written speech acts by representatives of states (such as leaders and diplomats) intended to influence events in the international system.Diplomacy is the main instrument of foreign policy and global governance which represents the broader goals and strategies that guide a state's interactions with the rest of the world.\n",
      "Target Page: The uterus (from Latin \"uterus\", plural uteri) or womb () is the main female hormone-responsive, secondary sex organ of the reproductive system in humans and most other mammals.\n",
      "caling sortlinks\n",
      "[]\n",
      "Consulate 0.16495824\n",
      "['Consulate']\n",
      "Omsk 0.12088105\n",
      "['Consulate', 'Omsk']\n",
      "T-80 0.17476657\n",
      "['Consulate', 'Omsk', 'T-80']\n",
      "Glacis 0.16978802\n",
      "['Consulate', 'Omsk', 'T-80', 'Glacis']\n",
      "Moat 0.25204703\n",
      "['Consulate', 'Omsk', 'T-80', 'Glacis', 'Moat']\n",
      "Palisade 0.21874617\n",
      "['Consulate', 'Omsk', 'T-80', 'Glacis', 'Moat', 'Palisade']\n",
      "Caltrop 0.21395534\n",
      "['Consulate', 'Omsk', 'T-80', 'Glacis', 'Moat', 'Palisade', 'Caltrop']\n",
      "Breakwaters 0.21679382\n",
      "['Consulate', 'Omsk', 'T-80', 'Glacis', 'Moat', 'Palisade', 'Caltrop', 'Breakwaters']\n",
      "Toxin 0.22705774\n",
      "['Consulate', 'Omsk', 'T-80', 'Glacis', 'Moat', 'Palisade', 'Caltrop', 'Breakwaters', 'Toxin']\n",
      "Liver 0.4745593\n",
      "['Consulate', 'Omsk', 'T-80', 'Glacis', 'Moat', 'Palisade', 'Caltrop', 'Breakwaters', 'Toxin', 'Liver']\n",
      "Placenta 0.6614056\n",
      "['Consulate', 'Omsk', 'T-80', 'Glacis', 'Moat', 'Palisade', 'Caltrop', 'Breakwaters', 'Toxin', 'Liver', 'Placenta']\n",
      "['Consulate', 'Omsk', 'T-80', 'Glacis', 'Moat', 'Palisade', 'Caltrop', 'Breakwaters', 'Toxin', 'Liver', 'Placenta']\n",
      "Degrees of separation from Diplomacy --> Uterus : 11\n",
      "['Consulate', 'Omsk', 'T-80', 'Glacis', 'Moat', 'Palisade', 'Caltrop', 'Breakwaters', 'Toxin', 'Liver', 'Placenta']\n"
     ]
    }
   ],
   "source": [
    "degree = findDistanceSingle(\"Diplomacy\", \"Uterus\")\n",
    "degreesSingle.append(degree)"
   ]
  },
  {
   "cell_type": "code",
   "execution_count": 100,
   "metadata": {},
   "outputs": [
    {
     "name": "stdout",
     "output_type": "stream",
     "text": [
      "Initial Page: The Andes, Andes Mountains or Andean Mountains (Spanish: Cordillera de los Andes) are the longest continental mountain range in the world, forming a continuous highland along the western edge of South America.\n",
      "Target Page: Gasoline (American English; ) or petrol (British English; ) (see Etymology for naming differences and geographic usage) is a transparent, petroleum‑derived flammable liquid that is used primarily as a fuel in most spark-ignited internal combustion engines (also known as petrol engines).\n",
      "Current path: []\n",
      "Pages visited: []\n",
      "Coffee 0.48732924\n",
      "Current path: ['Coffee']\n",
      "Pages visited: ['Coffee']\n",
      "Coffee production in Colombia 0.545694\n",
      "Current path: ['Coffee', 'Coffee production in colombia']\n",
      "Pages visited: ['Coffee', 'Coffee production in colombia']\n",
      "backtracking...\n",
      "previous: Coffee\n",
      "0.48732924\n",
      "Current path: ['Coffee']\n",
      "Pages visited: ['Coffee', 'Coffee production in colombia']\n",
      "Futures contracts 0.53209376\n",
      "Current path: ['Coffee', 'Futures contracts']\n",
      "Pages visited: ['Coffee', 'Coffee production in colombia', 'Futures contracts']\n",
      "Degrees of separation from Andes --> Gasoline : 2\n",
      "['Coffee', 'Coffee production in colombia']\n"
     ]
    }
   ],
   "source": [
    "degree = findDistanceSummingDisplay(\"Andes\", \"Gasoline\")\n",
    "degreesMulti.append(degree)"
   ]
  },
  {
   "cell_type": "code",
   "execution_count": 101,
   "metadata": {},
   "outputs": [
    {
     "name": "stdout",
     "output_type": "stream",
     "text": [
      "Running findDistance\n",
      "Initial Page: The Andes, Andes Mountains or Andean Mountains (Spanish: Cordillera de los Andes) are the longest continental mountain range in the world, forming a continuous highland along the western edge of South America.\n",
      "Target Page: Gasoline (American English; ) or petrol (British English; ) (see Etymology for naming differences and geographic usage) is a transparent, petroleum‑derived flammable liquid that is used primarily as a fuel in most spark-ignited internal combustion engines (also known as petrol engines).\n",
      "caling sortlinks\n",
      "[]\n",
      "Coffee 0.48732924\n",
      "['Coffee']\n",
      "Commodity 0.5117765\n",
      "['Coffee', 'Commodity']\n",
      "Propane 0.62392175\n",
      "['Coffee', 'Commodity', 'Propane']\n",
      "['Coffee', 'Commodity', 'Propane']\n",
      "Degrees of separation from Andes --> Gasoline : 3\n",
      "['Coffee', 'Commodity', 'Propane']\n"
     ]
    }
   ],
   "source": [
    "degree = findDistanceSingle(\"Andes\", \"Gasoline\")\n",
    "degreesSingle.append(degree)"
   ]
  },
  {
   "cell_type": "code",
   "execution_count": 102,
   "metadata": {},
   "outputs": [
    {
     "name": "stdout",
     "output_type": "stream",
     "text": [
      "Initial Page: Eyes are organs of the visual system.\n",
      "Target Page: The word geek is a slang term originally used to describe eccentric or non-mainstream people; in current use, the word typically connotes an expert or enthusiast obsessed with a hobby or intellectual pursuit.\n",
      "Current path: []\n",
      "Pages visited: []\n",
      "Rabbit 0.20475562\n",
      "Current path: ['Rabbit']\n",
      "Pages visited: ['Rabbit']\n",
      "Pet 0.2910931\n",
      "Current path: ['Rabbit', 'Pet']\n",
      "Pages visited: ['Rabbit', 'Pet']\n",
      "Werewolf 0.38047352\n",
      "Current path: ['Rabbit', 'Pet', 'Werewolf']\n",
      "Pages visited: ['Rabbit', 'Pet', 'Werewolf']\n",
      "Tech noir 0.46867242\n",
      "Current path: ['Rabbit', 'Pet', 'Werewolf', 'Tech noir']\n",
      "Pages visited: ['Rabbit', 'Pet', 'Werewolf', 'Tech noir']\n",
      "backtracking...\n",
      "previous: Werewolf\n",
      "0.38047352\n",
      "Current path: ['Rabbit', 'Pet', 'Werewolf']\n",
      "Pages visited: ['Rabbit', 'Pet', 'Werewolf', 'Tech noir']\n",
      "Weird fiction 0.45567095\n",
      "Current path: ['Rabbit', 'Pet', 'Werewolf', 'Weird fiction']\n",
      "Pages visited: ['Rabbit', 'Pet', 'Werewolf', 'Tech noir', 'Weird fiction']\n",
      "backtracking...\n",
      "previous: Werewolf\n",
      "0.38047352\n",
      "Current path: ['Rabbit', 'Pet', 'Werewolf']\n",
      "Pages visited: ['Rabbit', 'Pet', 'Werewolf', 'Tech noir', 'Weird fiction']\n",
      "Fantasy 0.43092266\n",
      "Current path: ['Rabbit', 'Pet', 'Werewolf', 'Fantasy']\n",
      "Pages visited: ['Rabbit', 'Pet', 'Werewolf', 'Tech noir', 'Weird fiction', 'Fantasy']\n",
      "backtracking...\n",
      "previous: Werewolf\n",
      "0.38047352\n",
      "Current path: ['Rabbit', 'Pet', 'Werewolf']\n",
      "Pages visited: ['Rabbit', 'Pet', 'Werewolf', 'Tech noir', 'Weird fiction', 'Fantasy']\n",
      "Werewolf fiction 0.42270163\n",
      "Current path: ['Rabbit', 'Pet', 'Werewolf', 'Werewolf fiction']\n",
      "Pages visited: ['Rabbit', 'Pet', 'Werewolf', 'Tech noir', 'Weird fiction', 'Fantasy', 'Werewolf fiction']\n",
      "Fantasy (genre) 0.43092266\n",
      "Current path: ['Rabbit', 'Pet', 'Werewolf', 'Werewolf fiction', 'Fantasy (genre)']\n",
      "Pages visited: ['Rabbit', 'Pet', 'Werewolf', 'Tech noir', 'Weird fiction', 'Fantasy', 'Werewolf fiction', 'Fantasy (genre)']\n",
      "backtracking...\n",
      "previous: Werewolf fiction\n",
      "0.42270163\n",
      "Current path: ['Rabbit', 'Pet', 'Werewolf', 'Werewolf fiction']\n",
      "Pages visited: ['Rabbit', 'Pet', 'Werewolf', 'Tech noir', 'Weird fiction', 'Fantasy', 'Werewolf fiction', 'Fantasy (genre)']\n",
      "backtracking...\n",
      "previous: Werewolf\n",
      "0.38047352\n",
      "Current path: ['Rabbit', 'Pet', 'Werewolf']\n",
      "Pages visited: ['Rabbit', 'Pet', 'Werewolf', 'Tech noir', 'Weird fiction', 'Fantasy', 'Werewolf fiction', 'Fantasy (genre)']\n",
      "Zombie comedy 0.39946097\n",
      "Current path: ['Rabbit', 'Pet', 'Werewolf', 'Zombie comedy']\n",
      "Pages visited: ['Rabbit', 'Pet', 'Werewolf', 'Tech noir', 'Weird fiction', 'Fantasy', 'Werewolf fiction', 'Fantasy (genre)', 'Zombie comedy']\n",
      "Fantasy comedy 0.4201292\n",
      "Current path: ['Rabbit', 'Pet', 'Werewolf', 'Zombie comedy', 'Fantasy comedy']\n",
      "Pages visited: ['Rabbit', 'Pet', 'Werewolf', 'Tech noir', 'Weird fiction', 'Fantasy', 'Werewolf fiction', 'Fantasy (genre)', 'Zombie comedy', 'Fantasy comedy']\n",
      "backtracking...\n",
      "previous: Zombie comedy\n",
      "0.39946097\n",
      "Current path: ['Rabbit', 'Pet', 'Werewolf', 'Zombie comedy']\n",
      "Pages visited: ['Rabbit', 'Pet', 'Werewolf', 'Tech noir', 'Weird fiction', 'Fantasy', 'Werewolf fiction', 'Fantasy (genre)', 'Zombie comedy', 'Fantasy comedy']\n",
      "Magical girl 0.4197491\n",
      "Current path: ['Rabbit', 'Pet', 'Werewolf', 'Zombie comedy', 'Magical girl']\n",
      "Pages visited: ['Rabbit', 'Pet', 'Werewolf', 'Tech noir', 'Weird fiction', 'Fantasy', 'Werewolf fiction', 'Fantasy (genre)', 'Zombie comedy', 'Fantasy comedy', 'Magical girl']\n",
      "Magical boy 0.42804518\n",
      "Current path: ['Rabbit', 'Pet', 'Werewolf', 'Zombie comedy', 'Magical girl', 'Magical boy']\n",
      "Pages visited: ['Rabbit', 'Pet', 'Werewolf', 'Tech noir', 'Weird fiction', 'Fantasy', 'Werewolf fiction', 'Fantasy (genre)', 'Zombie comedy', 'Fantasy comedy', 'Magical girl', 'Magical boy']\n",
      "backtracking...\n",
      "previous: Magical girl\n",
      "0.4197491\n",
      "Current path: ['Rabbit', 'Pet', 'Werewolf', 'Zombie comedy', 'Magical girl']\n",
      "Pages visited: ['Rabbit', 'Pet', 'Werewolf', 'Tech noir', 'Weird fiction', 'Fantasy', 'Werewolf fiction', 'Fantasy (genre)', 'Zombie comedy', 'Fantasy comedy', 'Magical girl', 'Magical boy']\n",
      "backtracking...\n",
      "previous: Zombie comedy\n",
      "0.39946097\n",
      "Current path: ['Rabbit', 'Pet', 'Werewolf', 'Zombie comedy']\n",
      "Pages visited: ['Rabbit', 'Pet', 'Werewolf', 'Tech noir', 'Weird fiction', 'Fantasy', 'Werewolf fiction', 'Fantasy (genre)', 'Zombie comedy', 'Fantasy comedy', 'Magical girl', 'Magical boy']\n",
      "Science fantasy 0.416831\n",
      "Current path: ['Rabbit', 'Pet', 'Werewolf', 'Zombie comedy', 'Science fantasy']\n",
      "Pages visited: ['Rabbit', 'Pet', 'Werewolf', 'Tech noir', 'Weird fiction', 'Fantasy', 'Werewolf fiction', 'Fantasy (genre)', 'Zombie comedy', 'Fantasy comedy', 'Magical girl', 'Magical boy', 'Science fantasy']\n",
      "Science fiction fandom 0.42099544\n",
      "Current path: ['Rabbit', 'Pet', 'Werewolf', 'Zombie comedy', 'Science fantasy', 'Science fiction fandom']\n",
      "Pages visited: ['Rabbit', 'Pet', 'Werewolf', 'Tech noir', 'Weird fiction', 'Fantasy', 'Werewolf fiction', 'Fantasy (genre)', 'Zombie comedy', 'Fantasy comedy', 'Magical girl', 'Magical boy', 'Science fantasy', 'Science fiction fandom']\n",
      "Degrees of separation from Eye --> Geek : 4\n",
      "['Rabbit', 'Pet', 'Werewolf', 'Tech noir']\n"
     ]
    }
   ],
   "source": [
    "degree = findDistanceSummingDisplay(\"Eye\", \"Geek\")\n",
    "degreesMulti.append(degree)"
   ]
  },
  {
   "cell_type": "code",
   "execution_count": 103,
   "metadata": {},
   "outputs": [
    {
     "name": "stdout",
     "output_type": "stream",
     "text": [
      "Running findDistance\n",
      "Initial Page: Eyes are organs of the visual system.\n",
      "Target Page: The word geek is a slang term originally used to describe eccentric or non-mainstream people; in current use, the word typically connotes an expert or enthusiast obsessed with a hobby or intellectual pursuit.\n",
      "caling sortlinks\n",
      "[]\n",
      "Image 0.25461447\n",
      "['Image']\n",
      "Video 0.28504053\n",
      "['Image', 'Video']\n",
      "Fanzine 0.37027404\n",
      "['Image', 'Video', 'Fanzine']\n",
      "['Image', 'Video', 'Fanzine']\n",
      "Degrees of separation from Eye --> Geek : 3\n",
      "['Image', 'Video', 'Fanzine']\n"
     ]
    }
   ],
   "source": [
    "degree = findDistanceSingle(\"Eye\", \"Geek\")\n",
    "degreesSingle.append(degree)"
   ]
  },
  {
   "cell_type": "code",
   "execution_count": 104,
   "metadata": {},
   "outputs": [
    {
     "name": "stdout",
     "output_type": "stream",
     "text": [
      "Initial Page: The potato is a starchy tuber of the plant Solanum tuberosum and is a root vegetable native to the Americas.\n",
      "Target Page: A stroke is a medical condition in which poor blood flow to the brain causes cell death.\n",
      "Current path: []\n",
      "Pages visited: []\n",
      "Vitamin A 0.42240646\n",
      "Current path: ['Vitamin a']\n",
      "Pages visited: ['Vitamin a']\n",
      "Ovarian cancer 0.5283634\n",
      "Current path: ['Vitamin a', 'Ovarian cancer']\n",
      "Pages visited: ['Vitamin a', 'Ovarian cancer']\n",
      "Cancer 0.5534893\n",
      "Current path: ['Vitamin a', 'Ovarian cancer', 'Cancer']\n",
      "Pages visited: ['Vitamin a', 'Ovarian cancer', 'Cancer']\n",
      "backtracking...\n",
      "previous: Ovarian cancer\n",
      "0.5283634\n",
      "Current path: ['Vitamin a', 'Ovarian cancer']\n",
      "Pages visited: ['Vitamin a', 'Ovarian cancer', 'Cancer']\n",
      "Surgery 0.5471605\n",
      "Current path: ['Vitamin a', 'Ovarian cancer', 'Surgery']\n",
      "Pages visited: ['Vitamin a', 'Ovarian cancer', 'Cancer', 'Surgery']\n",
      "Pain 0.5572281\n",
      "Current path: ['Vitamin a', 'Ovarian cancer', 'Surgery', 'Pain']\n",
      "Pages visited: ['Vitamin a', 'Ovarian cancer', 'Cancer', 'Surgery', 'Pain']\n",
      "Pain and dementia 0.6089837\n",
      "Current path: ['Vitamin a', 'Ovarian cancer', 'Surgery', 'Pain', 'Pain and dementia']\n",
      "Pages visited: ['Vitamin a', 'Ovarian cancer', 'Cancer', 'Surgery', 'Pain', 'Pain and dementia']\n",
      "Degrees of separation from Potato --> Stroke : 3\n",
      "['Vitamin a', 'Ovarian cancer', 'Cancer']\n"
     ]
    }
   ],
   "source": [
    "degree = findDistanceSummingDisplay(\"Potato\", \"Stroke\")\n",
    "degreesMulti.append(degree)"
   ]
  },
  {
   "cell_type": "code",
   "execution_count": 105,
   "metadata": {},
   "outputs": [
    {
     "name": "stdout",
     "output_type": "stream",
     "text": [
      "Running findDistance\n",
      "Initial Page: The potato is a starchy tuber of the plant Solanum tuberosum and is a root vegetable native to the Americas.\n",
      "Target Page: A stroke is a medical condition in which poor blood flow to the brain causes cell death.\n",
      "caling sortlinks\n",
      "[]\n",
      "Cramps 0.46989465\n",
      "['Cramps']\n",
      "Pain 0.5572281\n",
      "['Cramps', 'Pain']\n",
      "Suffering 0.53041095\n",
      "['Cramps', 'Pain', 'Suffering']\n",
      "Cancer 0.5534893\n",
      "['Cramps', 'Pain', 'Suffering', 'Cancer']\n",
      "Surgery 0.5471605\n",
      "['Cramps', 'Pain', 'Suffering', 'Cancer', 'Surgery']\n",
      "Wound 0.63012046\n",
      "['Cramps', 'Pain', 'Suffering', 'Cancer', 'Surgery', 'Wound']\n",
      "Injury 0.57576287\n",
      "['Cramps', 'Pain', 'Suffering', 'Cancer', 'Surgery', 'Wound', 'Injury']\n",
      "Brain 0.5127434\n",
      "['Cramps', 'Pain', 'Suffering', 'Cancer', 'Surgery', 'Wound', 'Injury', 'Brain']\n",
      "Sleep 0.48005632\n",
      "['Cramps', 'Pain', 'Suffering', 'Cancer', 'Surgery', 'Wound', 'Injury', 'Brain', 'Sleep']\n",
      "['Cramps', 'Pain', 'Suffering', 'Cancer', 'Surgery', 'Wound', 'Injury', 'Brain', 'Sleep']\n",
      "Degrees of separation from Potato --> Stroke : 9\n",
      "['Cramps', 'Pain', 'Suffering', 'Cancer', 'Surgery', 'Wound', 'Injury', 'Brain', 'Sleep']\n"
     ]
    }
   ],
   "source": [
    "degree = findDistanceSingle(\"Potato\", \"Stroke\")\n",
    "degreesSingle.append(degree)"
   ]
  },
  {
   "cell_type": "code",
   "execution_count": 106,
   "metadata": {},
   "outputs": [
    {
     "name": "stdout",
     "output_type": "stream",
     "text": [
      "Initial Page: A continent is any of several large landmasses.\n",
      "Target Page: The mind is the set of faculties responsible for mental phenomena.\n",
      "Current path: []\n",
      "Pages visited: []\n",
      "Nature 0.67752564\n",
      "Current path: ['Nature']\n",
      "Pages visited: ['Nature']\n",
      "Degrees of separation from Continent --> Mind : 1\n",
      "['Nature']\n"
     ]
    }
   ],
   "source": [
    "degree = findDistanceSummingDisplay(\"Continent\", \"Mind\")\n",
    "degreesMulti.append(degree)"
   ]
  },
  {
   "cell_type": "code",
   "execution_count": 107,
   "metadata": {},
   "outputs": [
    {
     "name": "stdout",
     "output_type": "stream",
     "text": [
      "Running findDistance\n",
      "Initial Page: A continent is any of several large landmasses.\n",
      "Target Page: The mind is the set of faculties responsible for mental phenomena.\n",
      "caling sortlinks\n",
      "[]\n",
      "Nature 0.67752564\n",
      "['Nature']\n",
      "['Nature']\n",
      "Degrees of separation from Continent --> Mind : 1\n",
      "['Nature']\n"
     ]
    }
   ],
   "source": [
    "degree = findDistanceSingle(\"Continent\", \"Mind\")\n",
    "degreesSingle.append(degree)"
   ]
  },
  {
   "cell_type": "code",
   "execution_count": 108,
   "metadata": {},
   "outputs": [
    {
     "name": "stdout",
     "output_type": "stream",
     "text": [
      "Initial Page: Fever, also referred to as pyrexia, is defined as having a temperature above the normal range due to an increase in the body's temperature set point.\n",
      "Target Page: The mind is the set of faculties responsible for mental phenomena.\n",
      "Current path: []\n",
      "Pages visited: []\n",
      "Signs and symptoms 0.5263266\n",
      "Current path: ['Signs and symptoms']\n",
      "Pages visited: ['Signs and symptoms']\n",
      "Emotion 0.6221164\n",
      "Current path: ['Signs and symptoms', 'Emotion']\n",
      "Pages visited: ['Signs and symptoms', 'Emotion']\n",
      "Mind (journal) 1.0\n",
      "Current path: ['Signs and symptoms', 'Emotion', 'Mind (journal)']\n",
      "Pages visited: ['Signs and symptoms', 'Emotion', 'Mind (journal)']\n",
      "backtracking...\n",
      "previous: Emotion\n",
      "0.6221164\n",
      "Current path: ['Signs and symptoms', 'Emotion']\n",
      "Pages visited: ['Signs and symptoms', 'Emotion', 'Mind (journal)']\n",
      "Love 0.70630443\n",
      "Current path: ['Signs and symptoms', 'Emotion', 'Love']\n",
      "Pages visited: ['Signs and symptoms', 'Emotion', 'Mind (journal)', 'Love']\n",
      "Philosophy of love 0.7422317\n",
      "Current path: ['Signs and symptoms', 'Emotion', 'Love', 'Philosophy of love']\n",
      "Pages visited: ['Signs and symptoms', 'Emotion', 'Mind (journal)', 'Love', 'Philosophy of love']\n",
      "Philosophy of mind 0.8212483\n",
      "Current path: ['Signs and symptoms', 'Emotion', 'Love', 'Philosophy of love', 'Philosophy of mind']\n",
      "Pages visited: ['Signs and symptoms', 'Emotion', 'Mind (journal)', 'Love', 'Philosophy of love', 'Philosophy of mind']\n",
      "Degrees of separation from Fever --> Mind : 3\n",
      "['Signs and symptoms', 'Emotion', 'Mind (journal)']\n"
     ]
    }
   ],
   "source": [
    "degree = findDistanceSummingDisplay(\"Fever\", \"Mind\")\n",
    "degreesMulti.append(degree)"
   ]
  },
  {
   "cell_type": "code",
   "execution_count": 109,
   "metadata": {},
   "outputs": [
    {
     "name": "stdout",
     "output_type": "stream",
     "text": [
      "Initial Page: Fever, also referred to as pyrexia, is defined as having a temperature above the normal range due to an increase in the body's temperature set point.\n",
      "Target Page: The mind is the set of faculties responsible for mental phenomena.\n",
      "Current path: []\n",
      "Pages visited: []\n",
      "Signs and symptoms 0.5263266\n",
      "Current path: ['Signs and symptoms']\n",
      "Pages visited: ['Signs and symptoms']\n",
      "Emotion 0.6221164\n",
      "Current path: ['Signs and symptoms', 'Emotion']\n",
      "Pages visited: ['Signs and symptoms', 'Emotion']\n",
      "Mind (journal) 1.0\n",
      "Current path: ['Signs and symptoms', 'Emotion', 'Mind (journal)']\n",
      "Pages visited: ['Signs and symptoms', 'Emotion', 'Mind (journal)']\n",
      "backtracking...\n",
      "previous: Emotion\n",
      "0.6221164\n",
      "Current path: ['Signs and symptoms', 'Emotion']\n",
      "Pages visited: ['Signs and symptoms', 'Emotion', 'Mind (journal)']\n",
      "Love 0.70630443\n",
      "Current path: ['Signs and symptoms', 'Emotion', 'Love']\n",
      "Pages visited: ['Signs and symptoms', 'Emotion', 'Mind (journal)', 'Love']\n",
      "Philosophy of love 0.7422317\n",
      "Current path: ['Signs and symptoms', 'Emotion', 'Love', 'Philosophy of love']\n",
      "Pages visited: ['Signs and symptoms', 'Emotion', 'Mind (journal)', 'Love', 'Philosophy of love']\n",
      "Philosophy of mind 0.8212483\n",
      "Current path: ['Signs and symptoms', 'Emotion', 'Love', 'Philosophy of love', 'Philosophy of mind']\n",
      "Pages visited: ['Signs and symptoms', 'Emotion', 'Mind (journal)', 'Love', 'Philosophy of love', 'Philosophy of mind']\n",
      "Degrees of separation from Fever --> Mind : 3\n",
      "['Signs and symptoms', 'Emotion', 'Mind (journal)']\n"
     ]
    }
   ],
   "source": [
    "degree = findDistanceSummingDisplay(\"Fever\", \"Mind\")\n",
    "degreesSingle.append(degree)"
   ]
  },
  {
   "cell_type": "code",
   "execution_count": 110,
   "metadata": {},
   "outputs": [
    {
     "name": "stdout",
     "output_type": "stream",
     "text": [
      "Initial Page: Abstinence is a self-enforced restraint from indulging in bodily activities that are widely experienced as giving pleasure.\n",
      "Target Page: A Chinatown (Chinese: 唐人街; pinyin: Tángrénjiē; Jyutping: tong4 jan4 gaai1) is an ethnic enclave of Chinese people located outside mainland China, Hong Kong, Macau, Singapore or Taiwan, most often in an urban setting.\n",
      "Current path: []\n",
      "Pages visited: []\n",
      "Counterculture of the 1960s 0.32655504\n",
      "Current path: ['Counterculture of the 1960s']\n",
      "Pages visited: ['Counterculture of the 1960s']\n",
      "Williamsburg, Brooklyn 0.589322\n",
      "Current path: ['Counterculture of the 1960s', 'Williamsburg, brooklyn']\n",
      "Pages visited: ['Counterculture of the 1960s', 'Williamsburg, brooklyn']\n",
      "SoHo, Manhattan 0.67011595\n",
      "Current path: ['Counterculture of the 1960s', 'Williamsburg, brooklyn', 'Soho, manhattan']\n",
      "Pages visited: ['Counterculture of the 1960s', 'Williamsburg, brooklyn', 'Soho, manhattan']\n",
      "Chinatown, Manhattan 0.8739396\n",
      "Current path: ['Counterculture of the 1960s', 'Williamsburg, brooklyn', 'Soho, manhattan', 'Chinatown, manhattan']\n",
      "Pages visited: ['Counterculture of the 1960s', 'Williamsburg, brooklyn', 'Soho, manhattan', 'Chinatown, manhattan']\n",
      "Degrees of separation from Abstinence --> Chinatown : 4\n",
      "['Counterculture of the 1960s', 'Williamsburg, brooklyn', 'Soho, manhattan', 'Chinatown, manhattan']\n"
     ]
    }
   ],
   "source": [
    "degree = findDistanceSummingDisplay(\"Abstinence\", \"Chinatown\")\n",
    "degreesMulti.append(degree)"
   ]
  },
  {
   "cell_type": "code",
   "execution_count": 111,
   "metadata": {},
   "outputs": [
    {
     "name": "stdout",
     "output_type": "stream",
     "text": [
      "Running findDistance\n",
      "Initial Page: Abstinence is a self-enforced restraint from indulging in bodily activities that are widely experienced as giving pleasure.\n",
      "Target Page: A Chinatown (Chinese: 唐人街; pinyin: Tángrénjiē; Jyutping: tong4 jan4 gaai1) is an ethnic enclave of Chinese people located outside mainland China, Hong Kong, Macau, Singapore or Taiwan, most often in an urban setting.\n",
      "caling sortlinks\n",
      "[]\n",
      "Prostitution 0.31236854\n",
      "['Prostitution']\n",
      "Manhattan 0.58033854\n",
      "['Prostitution', 'Manhattan']\n",
      "SoHo 0.63932675\n",
      "['Prostitution', 'Manhattan', 'Soho']\n",
      "Harlem 0.6078205\n",
      "['Prostitution', 'Manhattan', 'Soho', 'Harlem']\n",
      "Koreatown 0.653664\n",
      "['Prostitution', 'Manhattan', 'Soho', 'Harlem', 'Koreatown']\n",
      "['Prostitution', 'Manhattan', 'Soho', 'Harlem', 'Koreatown']\n",
      "Degrees of separation from Abstinence --> Chinatown : 5\n",
      "['Prostitution', 'Manhattan', 'Soho', 'Harlem', 'Koreatown']\n"
     ]
    }
   ],
   "source": [
    "degree = findDistanceSingle(\"Abstinence\", \"Chinatown\")\n",
    "degreesSingle.append(degree)"
   ]
  },
  {
   "cell_type": "code",
   "execution_count": 112,
   "metadata": {},
   "outputs": [
    {
     "name": "stdout",
     "output_type": "stream",
     "text": [
      "Initial Page: Medicine is the science and practice of caring for a patient, managing the diagnosis, prognosis, prevention, treatment,  palliation of their injury or disease, and promoting their health.\n",
      "Target Page: A hospital is a health care institution providing patient treatment with specialized health science and auxiliary healthcare staff and medical equipment.\n",
      "Current path: []\n",
      "Pages visited: []\n",
      "Degrees of separation from Medicine --> Hospital : 0\n",
      "[]\n"
     ]
    }
   ],
   "source": [
    "degree = findDistanceSummingDisplay(\"Medicine\", \"Hospital\")\n",
    "degreesMulti.append(degree)"
   ]
  },
  {
   "cell_type": "code",
   "execution_count": 113,
   "metadata": {},
   "outputs": [
    {
     "name": "stdout",
     "output_type": "stream",
     "text": [
      "Running findDistance\n",
      "Initial Page: Medicine is the science and practice of caring for a patient, managing the diagnosis, prognosis, prevention, treatment,  palliation of their injury or disease, and promoting their health.\n",
      "Target Page: A hospital is a health care institution providing patient treatment with specialized health science and auxiliary healthcare staff and medical equipment.\n",
      "caling sortlinks\n",
      "[]\n",
      "[]\n",
      "Degrees of separation from Medicine --> Hospital : 0\n",
      "[]\n"
     ]
    }
   ],
   "source": [
    "degree = findDistanceSingle(\"Medicine\", \"Hospital\")\n",
    "degreesSingle.append(degree)"
   ]
  },
  {
   "cell_type": "code",
   "execution_count": 114,
   "metadata": {},
   "outputs": [
    {
     "name": "stdout",
     "output_type": "stream",
     "text": [
      "Initial Page: Prehistory, also known as pre-literary history, is the period of human history between the use of the first stone tools by hominins c.\n",
      "Target Page: Historically, cavalry (from the French word cavalerie, itself derived from \"cheval\" meaning \"horse\") are soldiers or warriors who fight mounted on horseback.\n",
      "Current path: []\n",
      "Pages visited: []\n",
      "Roman Empire 0.40601915\n",
      "Current path: ['Roman empire']\n",
      "Pages visited: ['Roman empire']\n",
      "Roman infantry tactics 0.7698245\n",
      "Current path: ['Roman empire', 'Roman infantry tactics']\n",
      "Pages visited: ['Roman empire', 'Roman infantry tactics']\n",
      "Degrees of separation from Prehistory --> Cavalry : 2\n",
      "['Roman empire', 'Roman infantry tactics']\n"
     ]
    }
   ],
   "source": [
    "degree = findDistanceSummingDisplay(\"Prehistory\", \"Cavalry\")\n",
    "degreesMulti.append(degree)"
   ]
  },
  {
   "cell_type": "code",
   "execution_count": 115,
   "metadata": {},
   "outputs": [
    {
     "name": "stdout",
     "output_type": "stream",
     "text": [
      "Running findDistance\n",
      "Initial Page: Prehistory, also known as pre-literary history, is the period of human history between the use of the first stone tools by hominins c.\n",
      "Target Page: Historically, cavalry (from the French word cavalerie, itself derived from \"cheval\" meaning \"horse\") are soldiers or warriors who fight mounted on horseback.\n",
      "caling sortlinks\n",
      "[]\n",
      "Iron 0.27411336\n",
      "['Iron']\n",
      "Railroad 0.2893651\n",
      "['Iron', 'Railroad']\n",
      "Mobilization 0.3424439\n",
      "['Iron', 'Railroad', 'Mobilization']\n",
      "['Iron', 'Railroad', 'Mobilization']\n",
      "Degrees of separation from Prehistory --> Cavalry : 3\n",
      "['Iron', 'Railroad', 'Mobilization']\n"
     ]
    }
   ],
   "source": [
    "degree = findDistanceSingle(\"Prehistory\", \"Cavalry\")\n",
    "degreesSingle.append(degree)"
   ]
  },
  {
   "cell_type": "code",
   "execution_count": 116,
   "metadata": {},
   "outputs": [
    {
     "name": "stdout",
     "output_type": "stream",
     "text": [
      "Initial Page: Racism is the belief that groups of humans possess different behavioral traits corresponding to inherited attributes and can be divided based on the superiority of one race over another.\n",
      "Target Page: Fantasy is a genre of speculative fiction involving magical elements, typically set in a fictional universe and sometimes inspired by mythology and folklore.\n",
      "Current path: []\n",
      "Pages visited: []\n",
      "Book of Genesis 0.61908805\n",
      "Current path: ['Book of genesis']\n",
      "Pages visited: ['Book of genesis']\n",
      "backtracking...\n"
     ]
    }
   ],
   "source": [
    "degree = findDistanceSummingDisplay(\"Racism\", \"Fantasy\")\n",
    "degreesMulti.append(degree)"
   ]
  },
  {
   "cell_type": "code",
   "execution_count": 117,
   "metadata": {},
   "outputs": [
    {
     "name": "stdout",
     "output_type": "stream",
     "text": [
      "Running findDistance\n",
      "Initial Page: Racism is the belief that groups of humans possess different behavioral traits corresponding to inherited attributes and can be divided based on the superiority of one race over another.\n",
      "Target Page: Fantasy is a genre of speculative fiction involving magical elements, typically set in a fictional universe and sometimes inspired by mythology and folklore.\n",
      "caling sortlinks\n",
      "[]\n",
      "History 0.51331645\n",
      "['History']\n",
      "['History']\n",
      "Degrees of separation from Racism --> Fantasy : 1\n",
      "['History']\n"
     ]
    }
   ],
   "source": [
    "degree = findDistanceSingle(\"Racism\", \"Fantasy\")\n",
    "degreesSingle.append(degree)"
   ]
  },
  {
   "cell_type": "code",
   "execution_count": 118,
   "metadata": {},
   "outputs": [
    {
     "name": "stdout",
     "output_type": "stream",
     "text": [
      "Initial Page: Biology is the scientific study of life.\n",
      "Target Page: Hypertension (HTN or HT), also known as high blood pressure (HBP), is a long-term medical condition in which the blood pressure in the arteries is persistently elevated.\n",
      "Current path: []\n",
      "Pages visited: []\n",
      "Cholesterol 0.5831584\n",
      "Current path: ['Cholesterol']\n",
      "Pages visited: ['Cholesterol']\n",
      "Degrees of separation from Biology --> Hypertension : 1\n",
      "['Cholesterol']\n"
     ]
    }
   ],
   "source": [
    "degree = findDistanceSummingDisplay(\"Biology\", \"Hypertension\")\n",
    "degreesMulti.append(degree)"
   ]
  },
  {
   "cell_type": "code",
   "execution_count": 119,
   "metadata": {},
   "outputs": [
    {
     "name": "stdout",
     "output_type": "stream",
     "text": [
      "Running findDistance\n",
      "Initial Page: Biology is the scientific study of life.\n",
      "Target Page: Hypertension (HTN or HT), also known as high blood pressure (HBP), is a long-term medical condition in which the blood pressure in the arteries is persistently elevated.\n",
      "caling sortlinks\n",
      "[]\n",
      "Cholesterol 0.5831584\n",
      "['Cholesterol']\n",
      "['Cholesterol']\n",
      "Degrees of separation from Biology --> Hypertension : 1\n",
      "['Cholesterol']\n"
     ]
    }
   ],
   "source": [
    "degree = findDistanceSingle(\"Biology\", \"Hypertension\")\n",
    "degreesSingle.append(degree)"
   ]
  },
  {
   "cell_type": "code",
   "execution_count": 120,
   "metadata": {},
   "outputs": [
    {
     "name": "stdout",
     "output_type": "stream",
     "text": [
      "Initial Page: Ohio ( (listen)) is a state in the Midwestern region of the United States.\n",
      "Target Page: Ice is water frozen into a solid state, typically forming at or below temperatures of 0 degrees Celsius or 32 degrees Fahrenheit.\n",
      "Current path: []\n",
      "Pages visited: []\n",
      "Rock and roll 0.6026516\n",
      "Current path: ['Rock and roll']\n",
      "Pages visited: ['Rock and roll']\n",
      "Soft rock 0.624398\n",
      "Current path: ['Rock and roll', 'Soft rock']\n",
      "Pages visited: ['Rock and roll', 'Soft rock']\n",
      "backtracking...\n",
      "previous: Rock and roll\n",
      "0.6026516\n",
      "Current path: ['Rock and roll']\n",
      "Pages visited: ['Rock and roll', 'Soft rock']\n",
      "backtracking...\n"
     ]
    }
   ],
   "source": [
    "degree = findDistanceSummingDisplay(\"Ohio\", \"Ice\")\n",
    "degreesMulti.append(degree)"
   ]
  },
  {
   "cell_type": "code",
   "execution_count": 121,
   "metadata": {},
   "outputs": [
    {
     "name": "stdout",
     "output_type": "stream",
     "text": [
      "Running findDistance\n",
      "Initial Page: Ohio ( (listen)) is a state in the Midwestern region of the United States.\n",
      "Target Page: Ice is water frozen into a solid state, typically forming at or below temperatures of 0 degrees Celsius or 32 degrees Fahrenheit.\n",
      "caling sortlinks\n",
      "[]\n",
      "Iron 0.47039\n",
      "['Iron']\n",
      "Water 0.6125519\n",
      "['Iron', 'Water']\n",
      "['Iron', 'Water']\n",
      "Degrees of separation from Ohio --> Ice : 2\n",
      "['Iron', 'Water']\n"
     ]
    }
   ],
   "source": [
    "degree = findDistanceSingle(\"Ohio\", \"Ice\")\n",
    "degreesSingle.append(degree)"
   ]
  },
  {
   "cell_type": "code",
   "execution_count": 122,
   "metadata": {},
   "outputs": [
    {
     "name": "stdout",
     "output_type": "stream",
     "text": [
      "Initial Page: A paradox is a logically self-contradictory statement or a statement that runs contrary to one's expectation.\n",
      "Target Page: Tennessee ( (listen) TEN-ih-SEE, locally  TEN-iss-ee), officially the State of Tennessee, is a state in the Southeastern region of the United States.\n",
      "Current path: []\n",
      "Pages visited: []\n",
      "Argument from free will 0.33094934\n",
      "Current path: ['Argument from free will']\n",
      "Pages visited: ['Argument from free will']\n",
      "George Berkeley 0.50917447\n",
      "Current path: ['Argument from free will', 'George berkeley']\n",
      "Pages visited: ['Argument from free will', 'George berkeley']\n",
      "Bristol County, Massachusetts 0.6563232\n",
      "Current path: ['Argument from free will', 'George berkeley', 'Bristol county, massachusetts']\n",
      "Pages visited: ['Argument from free will', 'George berkeley', 'Bristol county, massachusetts']\n",
      "Connecticut 0.74940497\n",
      "Current path: ['Argument from free will', 'George berkeley', 'Bristol county, massachusetts', 'Connecticut']\n",
      "Pages visited: ['Argument from free will', 'George berkeley', 'Bristol county, massachusetts', 'Connecticut']\n",
      "Degrees of separation from Paradox --> Tennessee : 4\n",
      "['Argument from free will', 'George berkeley', 'Bristol county, massachusetts', 'Connecticut']\n"
     ]
    }
   ],
   "source": [
    "degree = findDistanceSummingDisplay(\"Paradox\", \"Tennessee\")\n",
    "degreesMulti.append(degree)"
   ]
  },
  {
   "cell_type": "code",
   "execution_count": 123,
   "metadata": {},
   "outputs": [
    {
     "name": "stdout",
     "output_type": "stream",
     "text": [
      "Running findDistance\n",
      "Initial Page: A paradox is a logically self-contradictory statement or a statement that runs contrary to one's expectation.\n",
      "Target Page: Tennessee ( (listen) TEN-ih-SEE, locally  TEN-iss-ee), officially the State of Tennessee, is a state in the Southeastern region of the United States.\n",
      "caling sortlinks\n",
      "[]\n",
      "Barber 0.35313645\n",
      "['Barber']\n",
      "Flint 0.30873695\n",
      "['Barber', 'Flint']\n",
      "Ohio 0.81749314\n",
      "['Barber', 'Flint', 'Ohio']\n",
      "['Barber', 'Flint', 'Ohio']\n",
      "Degrees of separation from Paradox --> Tennessee : 3\n",
      "['Barber', 'Flint', 'Ohio']\n"
     ]
    }
   ],
   "source": [
    "degree = findDistanceSingle(\"Paradox\", \"Tennessee\")\n",
    "degreesSingle.append(degree)"
   ]
  },
  {
   "cell_type": "code",
   "execution_count": 124,
   "metadata": {},
   "outputs": [
    {
     "name": "stdout",
     "output_type": "stream",
     "text": [
      "Initial Page: An empire is a \"political unit\" made up of several territories and peoples, \"usually created by conquest, and divided between a dominant center and subordinate peripheries\".\n",
      "Target Page: A synthesizer (also spelled synthesiser) is an electronic musical instrument that generates audio signals.\n",
      "Current path: []\n",
      "Pages visited: []\n",
      "Cyrillic script 0.30058107\n",
      "Current path: ['Cyrillic script']\n",
      "Pages visited: ['Cyrillic script']\n",
      "QWERTY keyboard 0.6819434\n",
      "Current path: ['Cyrillic script', 'Qwerty keyboard']\n",
      "Pages visited: ['Cyrillic script', 'Qwerty keyboard']\n",
      "backtracking...\n",
      "previous: Cyrillic script\n",
      "0.30058107\n",
      "Current path: ['Cyrillic script']\n",
      "Pages visited: ['Cyrillic script', 'Qwerty keyboard']\n",
      "Cipher runes 0.42898503\n",
      "Current path: ['Cyrillic script', 'Cipher runes']\n",
      "Pages visited: ['Cyrillic script', 'Qwerty keyboard', 'Cipher runes']\n",
      "backtracking...\n",
      "previous: Cyrillic script\n",
      "0.30058107\n",
      "Current path: ['Cyrillic script']\n",
      "Pages visited: ['Cyrillic script', 'Qwerty keyboard', 'Cipher runes']\n",
      "Vai syllabary 0.42722806\n",
      "Current path: ['Cyrillic script', 'Vai syllabary']\n",
      "Pages visited: ['Cyrillic script', 'Qwerty keyboard', 'Cipher runes', 'Vai syllabary']\n",
      "backtracking...\n",
      "previous: Cyrillic script\n",
      "0.30058107\n",
      "Current path: ['Cyrillic script']\n",
      "Pages visited: ['Cyrillic script', 'Qwerty keyboard', 'Cipher runes', 'Vai syllabary']\n",
      "Ojibwe writing systems 0.41750574\n",
      "Current path: ['Cyrillic script', 'Ojibwe writing systems']\n",
      "Pages visited: ['Cyrillic script', 'Qwerty keyboard', 'Cipher runes', 'Vai syllabary', 'Ojibwe writing systems']\n",
      "backtracking...\n",
      "previous: Cyrillic script\n",
      "0.30058107\n",
      "Current path: ['Cyrillic script']\n",
      "Pages visited: ['Cyrillic script', 'Qwerty keyboard', 'Cipher runes', 'Vai syllabary', 'Ojibwe writing systems']\n",
      "Stokoe notation 0.40768036\n",
      "Current path: ['Cyrillic script', 'Stokoe notation']\n",
      "Pages visited: ['Cyrillic script', 'Qwerty keyboard', 'Cipher runes', 'Vai syllabary', 'Ojibwe writing systems', 'Stokoe notation']\n",
      "backtracking...\n",
      "previous: Cyrillic script\n",
      "0.30058107\n",
      "Current path: ['Cyrillic script']\n",
      "Pages visited: ['Cyrillic script', 'Qwerty keyboard', 'Cipher runes', 'Vai syllabary', 'Ojibwe writing systems', 'Stokoe notation']\n",
      "Mandaic alphabet 0.4065677\n",
      "Current path: ['Cyrillic script', 'Mandaic alphabet']\n",
      "Pages visited: ['Cyrillic script', 'Qwerty keyboard', 'Cipher runes', 'Vai syllabary', 'Ojibwe writing systems', 'Stokoe notation', 'Mandaic alphabet']\n",
      "backtracking...\n",
      "previous: Cyrillic script\n",
      "0.30058107\n",
      "Current path: ['Cyrillic script']\n",
      "Pages visited: ['Cyrillic script', 'Qwerty keyboard', 'Cipher runes', 'Vai syllabary', 'Ojibwe writing systems', 'Stokoe notation', 'Mandaic alphabet']\n",
      "Braille ASCII 0.4025987\n",
      "Current path: ['Cyrillic script', 'Braille ascii']\n",
      "Pages visited: ['Cyrillic script', 'Qwerty keyboard', 'Cipher runes', 'Vai syllabary', 'Ojibwe writing systems', 'Stokoe notation', 'Mandaic alphabet', 'Braille ascii']\n",
      "Casio calculator character sets 0.4245235\n",
      "Current path: ['Cyrillic script', 'Braille ascii', 'Casio calculator character sets']\n",
      "Pages visited: ['Cyrillic script', 'Qwerty keyboard', 'Cipher runes', 'Vai syllabary', 'Ojibwe writing systems', 'Stokoe notation', 'Mandaic alphabet', 'Braille ascii', 'Casio calculator character sets']\n",
      "backtracking...\n",
      "previous: Braille ascii\n",
      "0.4025987\n",
      "couldnt find page for Braille_ascii\n",
      "trying to find page for Braille_Ascii\n",
      "Current path: ['Cyrillic script', 'Braille ascii']\n",
      "Pages visited: ['Cyrillic script', 'Qwerty keyboard', 'Cipher runes', 'Vai syllabary', 'Ojibwe writing systems', 'Stokoe notation', 'Mandaic alphabet', 'Braille ascii', 'Casio calculator character sets']\n",
      "GSM 03.38 0.41303438\n",
      "Current path: ['Cyrillic script', 'Braille ascii', 'Gsm 03.38']\n",
      "Pages visited: ['Cyrillic script', 'Qwerty keyboard', 'Cipher runes', 'Vai syllabary', 'Ojibwe writing systems', 'Stokoe notation', 'Mandaic alphabet', 'Braille ascii', 'Casio calculator character sets', 'Gsm 03.38']\n",
      "backtracking...\n",
      "previous: Braille ascii\n",
      "0.4025987\n",
      "couldnt find page for Braille_ascii\n",
      "trying to find page for Braille_Ascii\n",
      "Current path: ['Cyrillic script', 'Braille ascii']\n",
      "Pages visited: ['Cyrillic script', 'Qwerty keyboard', 'Cipher runes', 'Vai syllabary', 'Ojibwe writing systems', 'Stokoe notation', 'Mandaic alphabet', 'Braille ascii', 'Casio calculator character sets', 'Gsm 03.38']\n",
      "backtracking...\n",
      "previous: Cyrillic script\n",
      "0.30058107\n",
      "Current path: ['Cyrillic script']\n",
      "Pages visited: ['Cyrillic script', 'Qwerty keyboard', 'Cipher runes', 'Vai syllabary', 'Ojibwe writing systems', 'Stokoe notation', 'Mandaic alphabet', 'Braille ascii', 'Casio calculator character sets', 'Gsm 03.38']\n",
      "Typography 0.39788997\n",
      "Current path: ['Cyrillic script', 'Typography']\n",
      "Pages visited: ['Cyrillic script', 'Qwerty keyboard', 'Cipher runes', 'Vai syllabary', 'Ojibwe writing systems', 'Stokoe notation', 'Mandaic alphabet', 'Braille ascii', 'Casio calculator character sets', 'Gsm 03.38', 'Typography']\n",
      "Sound design 0.47149843\n",
      "Current path: ['Cyrillic script', 'Typography', 'Sound design']\n",
      "Pages visited: ['Cyrillic script', 'Qwerty keyboard', 'Cipher runes', 'Vai syllabary', 'Ojibwe writing systems', 'Stokoe notation', 'Mandaic alphabet', 'Braille ascii', 'Casio calculator character sets', 'Gsm 03.38', 'Typography', 'Sound design']\n",
      "Musical Instrument Digital Interface 0.5943622\n",
      "Current path: ['Cyrillic script', 'Typography', 'Sound design', 'Musical instrument digital interface']\n",
      "Pages visited: ['Cyrillic script', 'Qwerty keyboard', 'Cipher runes', 'Vai syllabary', 'Ojibwe writing systems', 'Stokoe notation', 'Mandaic alphabet', 'Braille ascii', 'Casio calculator character sets', 'Gsm 03.38', 'Typography', 'Sound design', 'Musical instrument digital interface']\n",
      "Degrees of separation from Empire --> Synthesizer : 2\n",
      "['Cyrillic script', 'Qwerty keyboard']\n"
     ]
    }
   ],
   "source": [
    "degree = findDistanceSummingDisplay(\"Empire\", \"Synthesizer\")\n",
    "degreesMulti.append(degree)"
   ]
  },
  {
   "cell_type": "code",
   "execution_count": 125,
   "metadata": {},
   "outputs": [
    {
     "name": "stdout",
     "output_type": "stream",
     "text": [
      "Running findDistance\n",
      "Initial Page: An empire is a \"political unit\" made up of several territories and peoples, \"usually created by conquest, and divided between a dominant center and subordinate peripheries\".\n",
      "Target Page: A synthesizer (also spelled synthesiser) is an electronic musical instrument that generates audio signals.\n",
      "caling sortlinks\n",
      "[]\n",
      "Sinology 0.22658043\n",
      "['Sinology']\n",
      "Arabic 0.2698284\n",
      "['Sinology', 'Arabic']\n",
      "Fricative 0.39058167\n",
      "['Sinology', 'Arabic', 'Fricative']\n",
      "Bach 0.37706548\n",
      "['Sinology', 'Arabic', 'Fricative', 'Bach']\n",
      "Drum 0.6228025\n",
      "['Sinology', 'Arabic', 'Fricative', 'Bach', 'Drum']\n",
      "Orchestral 0.5764652\n",
      "['Sinology', 'Arabic', 'Fricative', 'Bach', 'Drum', 'Orchestral']\n",
      "['Sinology', 'Arabic', 'Fricative', 'Bach', 'Drum', 'Orchestral']\n",
      "Degrees of separation from Empire --> Synthesizer : 6\n",
      "['Sinology', 'Arabic', 'Fricative', 'Bach', 'Drum', 'Orchestral']\n"
     ]
    }
   ],
   "source": [
    "degree = findDistanceSingle(\"Empire\", \"Synthesizer\")\n",
    "degreesSingle.append(degree)"
   ]
  },
  {
   "cell_type": "code",
   "execution_count": 126,
   "metadata": {},
   "outputs": [
    {
     "name": "stdout",
     "output_type": "stream",
     "text": [
      "Initial Page: A spacecraft is a vehicle or machine designed to fly in outer space.\n",
      "Target Page: A writer is a person who uses written words in different writing styles and techniques to communicate ideas.\n",
      "Current path: []\n",
      "Pages visited: []\n",
      "Alan Shepard 0.4925686\n",
      "Current path: ['Alan shepard']\n",
      "Pages visited: ['Alan shepard']\n",
      "Christian Scientist 0.58946335\n",
      "Current path: ['Alan shepard', 'Christian scientist']\n",
      "Pages visited: ['Alan shepard', 'Christian scientist']\n",
      "backtracking...\n",
      "previous: Alan shepard\n",
      "0.4925686\n",
      "Current path: ['Alan shepard']\n",
      "Pages visited: ['Alan shepard', 'Christian scientist']\n",
      "Portal:Biography 0.5817526\n",
      "Current path: ['Alan shepard', 'Portal:biography']\n",
      "Pages visited: ['Alan shepard', 'Christian scientist', 'Portal:biography']\n",
      "Science fiction 0.59377426\n",
      "Current path: ['Alan shepard', 'Portal:biography', 'Science fiction']\n",
      "Pages visited: ['Alan shepard', 'Christian scientist', 'Portal:biography', 'Science fiction']\n",
      "Astounding Award for Best New Writer 0.67684215\n",
      "Current path: ['Alan shepard', 'Portal:biography', 'Science fiction', 'Astounding award for best new writer']\n",
      "Pages visited: ['Alan shepard', 'Christian scientist', 'Portal:biography', 'Science fiction', 'Astounding award for best new writer']\n",
      "backtracking...\n",
      "previous: Science fiction\n",
      "0.59377426\n",
      "Current path: ['Alan shepard', 'Portal:biography', 'Science fiction']\n",
      "Pages visited: ['Alan shepard', 'Christian scientist', 'Portal:biography', 'Science fiction', 'Astounding award for best new writer']\n",
      "Science fiction magazine 0.67249084\n",
      "Current path: ['Alan shepard', 'Portal:biography', 'Science fiction', 'Science fiction magazine']\n",
      "Pages visited: ['Alan shepard', 'Christian scientist', 'Portal:biography', 'Science fiction', 'Astounding award for best new writer', 'Science fiction magazine']\n",
      "backtracking...\n",
      "previous: Science fiction\n",
      "0.59377426\n",
      "Current path: ['Alan shepard', 'Portal:biography', 'Science fiction']\n",
      "Pages visited: ['Alan shepard', 'Christian scientist', 'Portal:biography', 'Science fiction', 'Astounding award for best new writer', 'Science fiction magazine']\n",
      "Comic science fiction 0.6534416\n",
      "Current path: ['Alan shepard', 'Portal:biography', 'Science fiction', 'Comic science fiction']\n",
      "Pages visited: ['Alan shepard', 'Christian scientist', 'Portal:biography', 'Science fiction', 'Astounding award for best new writer', 'Science fiction magazine', 'Comic science fiction']\n",
      "backtracking...\n",
      "previous: Science fiction\n",
      "0.59377426\n",
      "Current path: ['Alan shepard', 'Portal:biography', 'Science fiction']\n",
      "Pages visited: ['Alan shepard', 'Christian scientist', 'Portal:biography', 'Science fiction', 'Astounding award for best new writer', 'Science fiction magazine', 'Comic science fiction']\n",
      "Science fiction film 0.6416857\n",
      "Current path: ['Alan shepard', 'Portal:biography', 'Science fiction', 'Science fiction film']\n",
      "Pages visited: ['Alan shepard', 'Christian scientist', 'Portal:biography', 'Science fiction', 'Astounding award for best new writer', 'Science fiction magazine', 'Comic science fiction', 'Science fiction film']\n",
      "backtracking...\n",
      "previous: Science fiction\n",
      "0.59377426\n",
      "Current path: ['Alan shepard', 'Portal:biography', 'Science fiction']\n",
      "Pages visited: ['Alan shepard', 'Christian scientist', 'Portal:biography', 'Science fiction', 'Astounding award for best new writer', 'Science fiction magazine', 'Comic science fiction', 'Science fiction film']\n",
      "Feminist science fiction 0.63956255\n",
      "Current path: ['Alan shepard', 'Portal:biography', 'Science fiction', 'Feminist science fiction']\n",
      "Pages visited: ['Alan shepard', 'Christian scientist', 'Portal:biography', 'Science fiction', 'Astounding award for best new writer', 'Science fiction magazine', 'Comic science fiction', 'Science fiction film', 'Feminist science fiction']\n",
      "Literary historian 0.75287807\n",
      "Current path: ['Alan shepard', 'Portal:biography', 'Science fiction', 'Feminist science fiction', 'Literary historian']\n",
      "Pages visited: ['Alan shepard', 'Christian scientist', 'Portal:biography', 'Science fiction', 'Astounding award for best new writer', 'Science fiction magazine', 'Comic science fiction', 'Science fiction film', 'Feminist science fiction', 'Literary historian']\n",
      "backtracking...\n",
      "previous: Feminist science fiction\n",
      "0.63956255\n",
      "Current path: ['Alan shepard', 'Portal:biography', 'Science fiction', 'Feminist science fiction']\n",
      "Pages visited: ['Alan shepard', 'Christian scientist', 'Portal:biography', 'Science fiction', 'Astounding award for best new writer', 'Science fiction magazine', 'Comic science fiction', 'Science fiction film', 'Feminist science fiction', 'Literary historian']\n",
      "backtracking...\n",
      "previous: Science fiction\n",
      "0.59377426\n",
      "Current path: ['Alan shepard', 'Portal:biography', 'Science fiction']\n",
      "Pages visited: ['Alan shepard', 'Christian scientist', 'Portal:biography', 'Science fiction', 'Astounding award for best new writer', 'Science fiction magazine', 'Comic science fiction', 'Science fiction film', 'Feminist science fiction', 'Literary historian']\n",
      "John W. Campbell Memorial Award for Best Science Fiction Novel 0.632219\n",
      "Current path: ['Alan shepard', 'Portal:biography', 'Science fiction', 'John w. campbell memorial award for best science fiction novel']\n",
      "Pages visited: ['Alan shepard', 'Christian scientist', 'Portal:biography', 'Science fiction', 'Astounding award for best new writer', 'Science fiction magazine', 'Comic science fiction', 'Science fiction film', 'Feminist science fiction', 'Literary historian', 'John w. campbell memorial award for best science fiction novel']\n",
      "John W. Campbell Award for Best New Writer 0.66629547\n",
      "Current path: ['Alan shepard', 'Portal:biography', 'Science fiction', 'John w. campbell memorial award for best science fiction novel', 'John w. campbell award for best new writer']\n",
      "Pages visited: ['Alan shepard', 'Christian scientist', 'Portal:biography', 'Science fiction', 'Astounding award for best new writer', 'Science fiction magazine', 'Comic science fiction', 'Science fiction film', 'Feminist science fiction', 'Literary historian', 'John w. campbell memorial award for best science fiction novel', 'John w. campbell award for best new writer']\n",
      "backtracking...\n",
      "previous: John w. campbell memorial award for best science fiction novel\n",
      "0.632219\n",
      "couldnt find page for John_w._campbell_memorial_award_for_best_science_fiction_novel\n",
      "trying to find page for John_W._Campbell_Memorial_Award_For_Best_Science_Fiction_Novel\n",
      "Current path: ['Alan shepard', 'Portal:biography', 'Science fiction', 'John w. campbell memorial award for best science fiction novel']\n",
      "Pages visited: ['Alan shepard', 'Christian scientist', 'Portal:biography', 'Science fiction', 'Astounding award for best new writer', 'Science fiction magazine', 'Comic science fiction', 'Science fiction film', 'Feminist science fiction', 'Literary historian', 'John w. campbell memorial award for best science fiction novel', 'John w. campbell award for best new writer']\n",
      "backtracking...\n",
      "previous: Science fiction\n",
      "0.59377426\n",
      "Current path: ['Alan shepard', 'Portal:biography', 'Science fiction']\n",
      "Pages visited: ['Alan shepard', 'Christian scientist', 'Portal:biography', 'Science fiction', 'Astounding award for best new writer', 'Science fiction magazine', 'Comic science fiction', 'Science fiction film', 'Feminist science fiction', 'Literary historian', 'John w. campbell memorial award for best science fiction novel', 'John w. campbell award for best new writer']\n",
      "Science fiction comedy 0.63187265\n",
      "Current path: ['Alan shepard', 'Portal:biography', 'Science fiction', 'Science fiction comedy']\n",
      "Pages visited: ['Alan shepard', 'Christian scientist', 'Portal:biography', 'Science fiction', 'Astounding award for best new writer', 'Science fiction magazine', 'Comic science fiction', 'Science fiction film', 'Feminist science fiction', 'Literary historian', 'John w. campbell memorial award for best science fiction novel', 'John w. campbell award for best new writer', 'Science fiction comedy']\n",
      "backtracking...\n",
      "previous: Science fiction\n",
      "0.59377426\n",
      "Current path: ['Alan shepard', 'Portal:biography', 'Science fiction']\n",
      "Pages visited: ['Alan shepard', 'Christian scientist', 'Portal:biography', 'Science fiction', 'Astounding award for best new writer', 'Science fiction magazine', 'Comic science fiction', 'Science fiction film', 'Feminist science fiction', 'Literary historian', 'John w. campbell memorial award for best science fiction novel', 'John w. campbell award for best new writer', 'Science fiction comedy']\n"
     ]
    },
    {
     "name": "stdout",
     "output_type": "stream",
     "text": [
      "Bengali science fiction 0.61068213\n"
     ]
    }
   ],
   "source": [
    "degree = findDistanceSummingDisplay(\"Spacecraft\", \"Writer\")\n",
    "degreesMulti.append(degree)"
   ]
  },
  {
   "cell_type": "code",
   "execution_count": 129,
   "metadata": {},
   "outputs": [
    {
     "data": {
      "text/plain": [
       "[8, 2, 3, 1, 20, 2, 7, 11, 3, 3, 9, 1, 3, 5, 0, 3, 1, 1, 2, 3, 6]"
      ]
     },
     "execution_count": 129,
     "metadata": {},
     "output_type": "execute_result"
    }
   ],
   "source": []
  },
  {
   "cell_type": "code",
   "execution_count": 131,
   "metadata": {},
   "outputs": [
    {
     "name": "stdout",
     "output_type": "stream",
     "text": [
      "Running findDistance\n",
      "Initial Page: A spacecraft is a vehicle or machine designed to fly in outer space.\n",
      "Target Page: A writer is a person who uses written words in different writing styles and techniques to communicate ideas.\n",
      "caling sortlinks\n",
      "[]\n",
      "Radio 0.3515439\n",
      "['Radio']\n",
      "Television 0.440814\n",
      "['Radio', 'Television']\n",
      "News 0.4854179\n",
      "['Radio', 'Television', 'News']\n",
      "Journalist 0.7907853\n",
      "['Radio', 'Television', 'News', 'Journalist']\n",
      "Columnist 0.7185005\n",
      "['Radio', 'Television', 'News', 'Journalist', 'Columnist']\n",
      "['Radio', 'Television', 'News', 'Journalist', 'Columnist']\n",
      "Degrees of separation from Spacecraft --> Writer : 5\n",
      "['Radio', 'Television', 'News', 'Journalist', 'Columnist']\n"
     ]
    }
   ],
   "source": [
    "degree = findDistanceSingle(\"Spacecraft\", \"Writer\")\n",
    "degreesSingle.append(degree)"
   ]
  },
  {
   "cell_type": "code",
   "execution_count": 132,
   "metadata": {},
   "outputs": [
    {
     "name": "stdout",
     "output_type": "stream",
     "text": [
      "Initial Page: Zionism (Hebrew: צִיּוֹנוּת Tsiyyonut [tsijoˈnut] after Zion) is a nationalist movement that espouses the establishment of, and support for a homeland for the Jewish people centered in the area roughly corresponding to the Land of Israel, the region of Palestine, Canaan, or the Holy Land, on the basis of a long Jewish connection and attachment to that land.Modern Zionism emerged in the late 19th century in Central and Eastern Europe as a national revival movement, both in reaction to newer waves of antisemitism and as a response to Haskalah, or Jewish Enlightenment.\n",
      "Target Page: In geography, latitude is a geographic coordinate that specifies the north–south position of a point on the Earth's surface.\n",
      "Current path: []\n",
      "Pages visited: []\n",
      "Axis powers 0.3793975\n",
      "Current path: ['Axis powers']\n",
      "Pages visited: ['Axis powers']\n",
      "backtracking...\n"
     ]
    }
   ],
   "source": [
    "degree = findDistanceSummingDisplay(\"Zionism\", \"Latitude\")\n",
    "degreesMulti.append(degree)"
   ]
  },
  {
   "cell_type": "code",
   "execution_count": 133,
   "metadata": {},
   "outputs": [
    {
     "name": "stdout",
     "output_type": "stream",
     "text": [
      "Running findDistance\n",
      "Initial Page: Zionism (Hebrew: צִיּוֹנוּת Tsiyyonut [tsijoˈnut] after Zion) is a nationalist movement that espouses the establishment of, and support for a homeland for the Jewish people centered in the area roughly corresponding to the Land of Israel, the region of Palestine, Canaan, or the Holy Land, on the basis of a long Jewish connection and attachment to that land.Modern Zionism emerged in the late 19th century in Central and Eastern Europe as a national revival movement, both in reaction to newer waves of antisemitism and as a response to Haskalah, or Jewish Enlightenment.\n",
      "Target Page: In geography, latitude is a geographic coordinate that specifies the north–south position of a point on the Earth's surface.\n",
      "caling sortlinks\n",
      "[]\n",
      "Iran 0.19795963\n",
      "['Iran']\n",
      "Radar 0.3009015\n",
      "['Iran', 'Radar']\n",
      "Azimuth 0.41664204\n",
      "['Iran', 'Radar', 'Azimuth']\n",
      "['Iran', 'Radar', 'Azimuth']\n",
      "Degrees of separation from Zionism --> Latitude : 3\n",
      "['Iran', 'Radar', 'Azimuth']\n"
     ]
    }
   ],
   "source": [
    "degree = findDistanceSingle(\"Zionism\", \"Latitude\")\n",
    "degreesSingle.append(degree)"
   ]
  },
  {
   "cell_type": "code",
   "execution_count": 136,
   "metadata": {},
   "outputs": [
    {
     "name": "stdout",
     "output_type": "stream",
     "text": [
      "Initial Page: Bankruptcy is a legal process through which people or other entities who cannot repay debts to creditors may seek relief from some or all of their debts.\n",
      "Target Page: An atmosphere (from Ancient Greek  ἀτμός (atmós) 'vapour, steam', and  σφαῖρα (sphaîra) 'sphere') is a layer of gas or layers of gases that envelope a planet, and is held in place by the gravity of the planetary body.\n",
      "Current path: []\n",
      "Pages visited: []\n",
      "The People's Republic of China 0.4262636\n",
      "Current path: [\"The people's republic of china\"]\n",
      "Pages visited: [\"The people's republic of china\"]\n",
      "Culture of China 0.51412433\n",
      "Current path: [\"The people's republic of china\", 'Culture of china']\n",
      "Pages visited: [\"The people's republic of china\", 'Culture of china']\n",
      "Culture of Israel 0.52706\n",
      "Current path: [\"The people's republic of china\", 'Culture of china', 'Culture of israel']\n",
      "Pages visited: [\"The people's republic of china\", 'Culture of china', 'Culture of israel']\n",
      "backtracking...\n",
      "previous: Culture of china\n",
      "0.51412433\n",
      "Current path: [\"The people's republic of china\", 'Culture of china']\n",
      "Pages visited: [\"The people's republic of china\", 'Culture of china', 'Culture of israel']\n",
      "backtracking...\n",
      "previous: The people's republic of china\n",
      "0.4262636\n",
      "Current path: [\"The people's republic of china\"]\n",
      "Pages visited: [\"The people's republic of china\", 'Culture of china', 'Culture of israel']\n",
      "Control of fire by early humans 0.5097538\n",
      "Current path: [\"The people's republic of china\", 'Control of fire by early humans']\n",
      "Pages visited: [\"The people's republic of china\", 'Culture of china', 'Culture of israel', 'Control of fire by early humans']\n",
      "backtracking...\n",
      "previous: The people's republic of china\n",
      "0.4262636\n",
      "Current path: [\"The people's republic of china\"]\n",
      "Pages visited: [\"The people's republic of china\", 'Culture of china', 'Culture of israel', 'Control of fire by early humans']\n",
      "List of countries by carbon dioxide emissions per capita 0.5083961\n",
      "Current path: [\"The people's republic of china\", 'List of countries by carbon dioxide emissions per capita']\n",
      "Pages visited: [\"The people's republic of china\", 'Culture of china', 'Culture of israel', 'Control of fire by early humans', 'List of countries by carbon dioxide emissions per capita']\n",
      "Climate variability and change 0.6414424\n",
      "Current path: [\"The people's republic of china\", 'List of countries by carbon dioxide emissions per capita', 'Climate variability and change']\n",
      "Pages visited: [\"The people's republic of china\", 'Culture of china', 'Culture of israel', 'Control of fire by early humans', 'List of countries by carbon dioxide emissions per capita', 'Climate variability and change']\n",
      "Degrees of separation from Bankruptcy --> Atmosphere : 3\n",
      "[\"The people's republic of china\", 'Culture of china', 'Culture of israel']\n"
     ]
    }
   ],
   "source": [
    "degree = findDistanceSummingDisplay(\"Bankruptcy\", \"Atmosphere\")\n",
    "degreesMulti.append(degree)"
   ]
  },
  {
   "cell_type": "code",
   "execution_count": 139,
   "metadata": {},
   "outputs": [
    {
     "name": "stdout",
     "output_type": "stream",
     "text": [
      "Running findDistance\n",
      "Initial Page: Bankruptcy is a legal process through which people or other entities who cannot repay debts to creditors may seek relief from some or all of their debts.\n",
      "Target Page: An atmosphere (from Ancient Greek  ἀτμός (atmós) 'vapour, steam', and  σφαῖρα (sphaîra) 'sphere') is a layer of gas or layers of gases that envelope a planet, and is held in place by the gravity of the planetary body.\n",
      "caling sortlinks\n",
      "[]\n",
      "Interest 0.35906455\n",
      "['Interest']\n",
      "Risk 0.355011\n",
      "['Interest', 'Risk']\n",
      "Behavior 0.4959319\n",
      "['Interest', 'Risk', 'Behavior']\n",
      "Interaction 0.5685992\n",
      "['Interest', 'Risk', 'Behavior', 'Interaction']\n",
      "Force 0.36029172\n",
      "['Interest', 'Risk', 'Behavior', 'Interaction', 'Force']\n",
      "Earth 0.60350484\n",
      "['Interest', 'Risk', 'Behavior', 'Interaction', 'Force', 'Earth']\n",
      "Climate 0.60690236\n",
      "['Interest', 'Risk', 'Behavior', 'Interaction', 'Force', 'Earth', 'Climate']\n",
      "['Interest', 'Risk', 'Behavior', 'Interaction', 'Force', 'Earth', 'Climate']\n",
      "Degrees of separation from Bankruptcy --> Atmosphere : 7\n",
      "['Interest', 'Risk', 'Behavior', 'Interaction', 'Force', 'Earth', 'Climate']\n"
     ]
    }
   ],
   "source": [
    "degree = findDistanceSingle(\"Bankruptcy\", \"Atmosphere\")\n",
    "degreesSingle.append(degree)"
   ]
  },
  {
   "cell_type": "code",
   "execution_count": 163,
   "metadata": {},
   "outputs": [
    {
     "name": "stdout",
     "output_type": "stream",
     "text": [
      "None\n"
     ]
    },
    {
     "data": {
      "text/plain": [
       "[3, 3, 4, 1, 2, 1, 1, 5, 2, 4, 3, 1, 3, 4, 2, 1, 4, 2, 3]"
      ]
     },
     "execution_count": 163,
     "metadata": {},
     "output_type": "execute_result"
    }
   ],
   "source": [
    "#\n",
    "degreesMulti[:] = [x if x != (0,0) else 0 for x in degreesMulti]\n",
    "degreesMulti.remove(0)\n",
    "#removes 6 entries"
   ]
  },
  {
   "cell_type": "code",
   "execution_count": 186,
   "metadata": {},
   "outputs": [
    {
     "data": {
      "text/plain": [
       "Text(0, 0.5, 'Degrees of Separation')"
      ]
     },
     "execution_count": 186,
     "metadata": {},
     "output_type": "execute_result"
    },
    {
     "data": {
      "image/png": "[encoded data removed]",
      "text/plain": [
       "<Figure size 432x288 with 1 Axes>"
      ]
     },
     "metadata": {
      "needs_background": "light"
     },
     "output_type": "display_data"
    }
   ],
   "source": [
    "from matplotlib import pyplot as plt\n",
    "ax = plt.hist(degreesMulti)\n",
    "\n",
    "\n",
    "plt.title('Solution Lengths Using Single Word Pages')\n",
    "plt.xlabel('Number of Solutions')\n",
    "plt.ylabel('Degrees of Separation')"
   ]
  },
  {
   "cell_type": "code",
   "execution_count": 187,
   "metadata": {},
   "outputs": [
    {
     "data": {
      "text/plain": [
       "Text(0, 0.5, 'Degrees of Separation')"
      ]
     },
     "execution_count": 187,
     "metadata": {},
     "output_type": "execute_result"
    },
    {
     "data": {
      "image/png": "[encoded data removed]",
      "text/plain": [
       "<Figure size 432x288 with 1 Axes>"
      ]
     },
     "metadata": {
      "needs_background": "light"
     },
     "output_type": "display_data"
    }
   ],
   "source": [
    "from matplotlib import pyplot as plt\n",
    "ax = plt.hist(degreesSingle, bins = 20)\n",
    "\n",
    "\n",
    "plt.title('Solution Lengths Using Multi Word Pages')\n",
    "plt.xlabel('Number of Solutions')\n",
    "plt.ylabel('Degrees of Separation')"
   ]
  },
  {
   "cell_type": "code",
   "execution_count": 183,
   "metadata": {},
   "outputs": [
    {
     "data": {
      "text/plain": [
       "2.5789473684210527"
      ]
     },
     "execution_count": 183,
     "metadata": {},
     "output_type": "execute_result"
    }
   ],
   "source": [
    "averageMultiDegrees = sum(degreesMulti)/len(degreesMulti)\n",
    "averageMultiDegrees"
   ]
  },
  {
   "cell_type": "code",
   "execution_count": 184,
   "metadata": {},
   "outputs": [
    {
     "data": {
      "text/plain": [
       "4.56"
      ]
     },
     "execution_count": 184,
     "metadata": {},
     "output_type": "execute_result"
    }
   ],
   "source": [
    "averageSingleDegrees = sum(degreesSingle)/len(degreesSingle)\n",
    "averageSingleDegrees"
   ]
  },
  {
   "cell_type": "code",
   "execution_count": 185,
   "metadata": {},
   "outputs": [
    {
     "data": {
      "text/plain": [
       "Text(0, 0.5, 'Degrees of Separation')"
      ]
     },
     "execution_count": 185,
     "metadata": {},
     "output_type": "execute_result"
    },
    {
     "data": {
      "image/png": "[encoded data removed]",
      "text/plain": [
       "<Figure size 432x288 with 1 Axes>"
      ]
     },
     "metadata": {
      "needs_background": "light"
     },
     "output_type": "display_data"
    }
   ],
   "source": [
    "ax = plt.hist((averageSingleDegrees,averageMultiDegrees))\n",
    "\n",
    "\n",
    "plt.title('Number of Degrees of Separation for Basic Pairs')\n",
    "plt.xlabel('Number of Solutions')\n",
    "plt.ylabel('Degrees of Separation')"
   ]
  },
  {
   "cell_type": "code",
   "execution_count": 68,
   "metadata": {
    "scrolled": true
   },
   "outputs": [
    {
     "name": "stdout",
     "output_type": "stream",
     "text": [
      "trying 0\n",
      "Running findDistance\n",
      "couldn't find answer for 0\n",
      "trying 1\n",
      "Running findDistance\n",
      "couldn't find answer for 1\n",
      "trying 2\n",
      "Running findDistance\n",
      "couldn't find answer for 2\n",
      "trying 3\n",
      "Running findDistance\n",
      "couldn't find answer for 3\n",
      "trying 4\n",
      "Running findDistance\n",
      "couldn't find answer for 4\n",
      "trying 5\n",
      "Running findDistance\n",
      "couldn't find answer for 5\n",
      "trying 6\n",
      "Running findDistance\n",
      "couldn't find answer for 6\n",
      "trying 7\n",
      "Running findDistance\n",
      "couldn't find answer for 7\n",
      "trying 8\n",
      "Running findDistance\n",
      "couldn't find answer for 8\n",
      "trying 9\n",
      "Running findDistance\n",
      "couldn't find answer for 9\n",
      "trying 10\n",
      "Running findDistance\n",
      "couldn't find answer for 10\n",
      "trying 11\n",
      "Running findDistance\n",
      "couldn't find answer for 11\n"
     ]
    }
   ],
   "source": [
    "#Originally trying to collect data by looping through pairs of page\n",
    "#when an error would occur, however, it would break the entire loop, and sometimes\n",
    "#require restarting the entire kernal\n",
    "#this is why I switched to the above method of individualling running each pair\n",
    "import time\n",
    "origins = [\"The Supremes\",\"Education\",\"Financial crisis\",\"U.S. state\",\"Hypothalamus\"\n",
    ",\"Disney Channel\",\"Pederasty\",\"Smallpox\",\"Ludwig van Beethoven\",\"Prussia\",\"Alchemy\",\"Nickel\"]\n",
    "#            \"Snow\",\"Firefox\"\n",
    "#     \"Mercury (planet)\", \"Leaf\"\n",
    "#            \"Dysentery\",\"Ludwig van Beethoven\",\n",
    "# \"Mesothelioma\",\"The Cosby Show\",\"Playing card\",\"Nas\",\"Psychologist\",\"Rahul Gandhi\",\"Prussia\",\"The Beatles\",\"Alchemy\",\"Vitamin D\",\"Assassination of John F. Kennedy\"\n",
    "# ,\"Democratic Republic of the Congo\",\"Napoleon\"]\n",
    "\n",
    "targets = [\"Emma Stone\",\"Traffic collision\",\"Tomato\",\"Mixed martial arts\",\"Card game\",\"Kate Beckinsale\",\"Instant messaging\",\"Chemotherapy\",\"Playing card\",\"Rahul Gandhi\",\"Byzantine Empire\",\"Pressure\"]\n",
    "#            ,\"Hormone\"]\n",
    "\n",
    "# ,\"Pressure\",\"HDMI\",\"Rafael Nadal\",\"Arrested Development (TV series)\"\n",
    "# ,\"Jack Swagger\",\"Nickel\",\"Snow\",\"Firefox\",\"Colin Powell\",\"New World\",\"Leaf\",\"Ayn Rand\",\"Chicken\",\"Olympic sports\",\"Smallpox\",\"Europe (band)\",\"Centers for Disease Control and Prevention\"]\n",
    "# ,\"Byzantine Empire\",\"Noam Chomsky\",\"Chemotherapy\",\"Titanium\",\"Malaria\",\"EBay\",\"Animation\",\"Logo\",\"Mind\"]\n",
    "# \"The Cosby Show\",\"Playing card\"\n",
    "\n",
    "degrees = []\n",
    "nodes_expanded = []\n",
    "len(targets)\n",
    "for i in range(12):\n",
    "    \n",
    "    degree,expanded = 0,0\n",
    "    try:\n",
    "        print(\"trying\",i)\n",
    "        degree,expanded = findDistanceSummingDataCollection(origins[i],targets[i])\n",
    "    except:\n",
    "#         time.sleep(1)\n",
    "        print(\"couldn't find answer for\",i)\n",
    "#         time.sleep(1)\n",
    "#         findDistanceSummingDataCollection(\"Cat\",\"Computer\")\n",
    "        pass\n",
    "    finally:\n",
    "        \n",
    "        degrees.append(degree)\n",
    "        nodes_expanded.append(expanded)\n"
   ]
  }
 ],
 "metadata": {
  "kernelspec": {
   "display_name": "Python 3",
   "language": "python",
   "name": "python3"
  },
  "language_info": {
   "codemirror_mode": {
    "name": "ipython",
    "version": 3
   },
   "file_extension": ".py",
   "mimetype": "text/x-python",
   "name": "python",
   "nbconvert_exporter": "python",
   "pygments_lexer": "ipython3",
   "version": "3.8.5"
  }
 },
 "nbformat": 4,
 "nbformat_minor": 4
}
